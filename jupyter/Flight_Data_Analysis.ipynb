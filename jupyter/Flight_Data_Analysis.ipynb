{
 "cells": [
  {
   "cell_type": "markdown",
   "metadata": {
    "slideshow": {
     "slide_type": "slide"
    }
   },
   "source": [
    "# Flight Delays 2008 Exploratory Data Analysis\n",
    "## by (mohamed mohsen)\n",
    "\n",
    "## Preliminary Wrangling\n",
    "\n",
    "> US Flight data for 2008. A lot of great insights can be get from it. Like which months we have many or few flights, why there is delays in flights arrival and departure .\n",
    "\n",
    "\n",
    "\n"
   ]
  },
  {
   "cell_type": "code",
   "execution_count": 1,
   "metadata": {
    "slideshow": {
     "slide_type": "skip"
    }
   },
   "outputs": [],
   "source": [
    "# import all packages and set plots to be embedded inline\n",
    "import numpy as np\n",
    "import pandas as pd\n",
    "import datetime\n",
    "import matplotlib.pyplot as plt\n",
    "import seaborn as sns\n",
    "# This line tells the notebook to show plots inside of the notebook\n",
    "%matplotlib inline\n"
   ]
  },
  {
   "cell_type": "code",
   "execution_count": 2,
   "metadata": {
    "slideshow": {
     "slide_type": "skip"
    }
   },
   "outputs": [],
   "source": [
    "# load in the dataset into a pandas dataframe, print statistics\n",
    "#df_2008 = pd.read_csv('2008.csv')\n",
    "#df_2008.shape"
   ]
  },
  {
   "cell_type": "code",
   "execution_count": 38,
   "metadata": {
    "slideshow": {
     "slide_type": "slide"
    }
   },
   "outputs": [
    {
     "data": {
      "text/html": [
       "<div>\n",
       "<style scoped>\n",
       "    .dataframe tbody tr th:only-of-type {\n",
       "        vertical-align: middle;\n",
       "    }\n",
       "\n",
       "    .dataframe tbody tr th {\n",
       "        vertical-align: top;\n",
       "    }\n",
       "\n",
       "    .dataframe thead th {\n",
       "        text-align: right;\n",
       "    }\n",
       "</style>\n",
       "<table border=\"1\" class=\"dataframe\">\n",
       "  <thead>\n",
       "    <tr style=\"text-align: right;\">\n",
       "      <th></th>\n",
       "      <th>Year</th>\n",
       "      <th>Month</th>\n",
       "      <th>DayofMonth</th>\n",
       "      <th>DayOfWeek</th>\n",
       "      <th>DepTime</th>\n",
       "      <th>CRSDepTime</th>\n",
       "      <th>ArrTime</th>\n",
       "      <th>CRSArrTime</th>\n",
       "      <th>UniqueCarrier</th>\n",
       "      <th>FlightNum</th>\n",
       "      <th>...</th>\n",
       "      <th>TaxiOut</th>\n",
       "      <th>Cancelled</th>\n",
       "      <th>CancellationCode</th>\n",
       "      <th>Diverted</th>\n",
       "      <th>CarrierDelay</th>\n",
       "      <th>WeatherDelay</th>\n",
       "      <th>NASDelay</th>\n",
       "      <th>SecurityDelay</th>\n",
       "      <th>LateAircraftDelay</th>\n",
       "      <th>Date</th>\n",
       "    </tr>\n",
       "  </thead>\n",
       "  <tbody>\n",
       "    <tr>\n",
       "      <th>0</th>\n",
       "      <td>2008</td>\n",
       "      <td>Apr</td>\n",
       "      <td>16</td>\n",
       "      <td>Wednesday</td>\n",
       "      <td>19:05:00</td>\n",
       "      <td>2008-04-16 19:15:00</td>\n",
       "      <td>20:40:00</td>\n",
       "      <td>20:47:00</td>\n",
       "      <td>XE</td>\n",
       "      <td>2600</td>\n",
       "      <td>...</td>\n",
       "      <td>18.0</td>\n",
       "      <td>0.0</td>\n",
       "      <td>NaN</td>\n",
       "      <td>0.0</td>\n",
       "      <td>NaN</td>\n",
       "      <td>NaN</td>\n",
       "      <td>NaN</td>\n",
       "      <td>NaN</td>\n",
       "      <td>NaN</td>\n",
       "      <td>2008-04-16</td>\n",
       "    </tr>\n",
       "    <tr>\n",
       "      <th>1</th>\n",
       "      <td>2008</td>\n",
       "      <td>Jan</td>\n",
       "      <td>11</td>\n",
       "      <td>Friday</td>\n",
       "      <td>09:10:00</td>\n",
       "      <td>2008-01-11 09:09:00</td>\n",
       "      <td>11:46:00</td>\n",
       "      <td>11:30:00</td>\n",
       "      <td>FL</td>\n",
       "      <td>690</td>\n",
       "      <td>...</td>\n",
       "      <td>15.0</td>\n",
       "      <td>0.0</td>\n",
       "      <td>NaN</td>\n",
       "      <td>0.0</td>\n",
       "      <td>1.0</td>\n",
       "      <td>0.0</td>\n",
       "      <td>15.0</td>\n",
       "      <td>0.0</td>\n",
       "      <td>0.0</td>\n",
       "      <td>2008-01-11</td>\n",
       "    </tr>\n",
       "    <tr>\n",
       "      <th>2</th>\n",
       "      <td>2008</td>\n",
       "      <td>Apr</td>\n",
       "      <td>15</td>\n",
       "      <td>Tuesday</td>\n",
       "      <td>06:00:00</td>\n",
       "      <td>2008-04-15 06:00:00</td>\n",
       "      <td>07:41:00</td>\n",
       "      <td>07:45:00</td>\n",
       "      <td>DL</td>\n",
       "      <td>690</td>\n",
       "      <td>...</td>\n",
       "      <td>15.0</td>\n",
       "      <td>0.0</td>\n",
       "      <td>NaN</td>\n",
       "      <td>0.0</td>\n",
       "      <td>NaN</td>\n",
       "      <td>NaN</td>\n",
       "      <td>NaN</td>\n",
       "      <td>NaN</td>\n",
       "      <td>NaN</td>\n",
       "      <td>2008-04-15</td>\n",
       "    </tr>\n",
       "    <tr>\n",
       "      <th>3</th>\n",
       "      <td>2008</td>\n",
       "      <td>Apr</td>\n",
       "      <td>13</td>\n",
       "      <td>Sunday</td>\n",
       "      <td>05:53:00</td>\n",
       "      <td>2008-04-13 06:00:00</td>\n",
       "      <td>08:31:00</td>\n",
       "      <td>08:37:00</td>\n",
       "      <td>NW</td>\n",
       "      <td>740</td>\n",
       "      <td>...</td>\n",
       "      <td>14.0</td>\n",
       "      <td>0.0</td>\n",
       "      <td>NaN</td>\n",
       "      <td>0.0</td>\n",
       "      <td>NaN</td>\n",
       "      <td>NaN</td>\n",
       "      <td>NaN</td>\n",
       "      <td>NaN</td>\n",
       "      <td>NaN</td>\n",
       "      <td>2008-04-13</td>\n",
       "    </tr>\n",
       "    <tr>\n",
       "      <th>4</th>\n",
       "      <td>2008</td>\n",
       "      <td>Feb</td>\n",
       "      <td>1</td>\n",
       "      <td>Friday</td>\n",
       "      <td>09:31:00</td>\n",
       "      <td>2008-02-01 09:30:00</td>\n",
       "      <td>16:30:00</td>\n",
       "      <td>16:37:00</td>\n",
       "      <td>US</td>\n",
       "      <td>310</td>\n",
       "      <td>...</td>\n",
       "      <td>22.0</td>\n",
       "      <td>0.0</td>\n",
       "      <td>NaN</td>\n",
       "      <td>0.0</td>\n",
       "      <td>NaN</td>\n",
       "      <td>NaN</td>\n",
       "      <td>NaN</td>\n",
       "      <td>NaN</td>\n",
       "      <td>NaN</td>\n",
       "      <td>2008-02-01</td>\n",
       "    </tr>\n",
       "    <tr>\n",
       "      <th>...</th>\n",
       "      <td>...</td>\n",
       "      <td>...</td>\n",
       "      <td>...</td>\n",
       "      <td>...</td>\n",
       "      <td>...</td>\n",
       "      <td>...</td>\n",
       "      <td>...</td>\n",
       "      <td>...</td>\n",
       "      <td>...</td>\n",
       "      <td>...</td>\n",
       "      <td>...</td>\n",
       "      <td>...</td>\n",
       "      <td>...</td>\n",
       "      <td>...</td>\n",
       "      <td>...</td>\n",
       "      <td>...</td>\n",
       "      <td>...</td>\n",
       "      <td>...</td>\n",
       "      <td>...</td>\n",
       "      <td>...</td>\n",
       "      <td>...</td>\n",
       "    </tr>\n",
       "    <tr>\n",
       "      <th>9995</th>\n",
       "      <td>2008</td>\n",
       "      <td>Feb</td>\n",
       "      <td>26</td>\n",
       "      <td>Tuesday</td>\n",
       "      <td>NaN</td>\n",
       "      <td>2008-02-26 18:40:00</td>\n",
       "      <td>NaN</td>\n",
       "      <td>00:05:00</td>\n",
       "      <td>WN</td>\n",
       "      <td>1152</td>\n",
       "      <td>...</td>\n",
       "      <td>NaN</td>\n",
       "      <td>1.0</td>\n",
       "      <td>carrier</td>\n",
       "      <td>0.0</td>\n",
       "      <td>NaN</td>\n",
       "      <td>NaN</td>\n",
       "      <td>NaN</td>\n",
       "      <td>NaN</td>\n",
       "      <td>NaN</td>\n",
       "      <td>2008-02-26</td>\n",
       "    </tr>\n",
       "    <tr>\n",
       "      <th>9996</th>\n",
       "      <td>2008</td>\n",
       "      <td>Feb</td>\n",
       "      <td>18</td>\n",
       "      <td>Monday</td>\n",
       "      <td>18:57:00</td>\n",
       "      <td>2008-02-18 18:55:00</td>\n",
       "      <td>19:46:00</td>\n",
       "      <td>19:55:00</td>\n",
       "      <td>WN</td>\n",
       "      <td>1460</td>\n",
       "      <td>...</td>\n",
       "      <td>10.0</td>\n",
       "      <td>0.0</td>\n",
       "      <td>NaN</td>\n",
       "      <td>0.0</td>\n",
       "      <td>NaN</td>\n",
       "      <td>NaN</td>\n",
       "      <td>NaN</td>\n",
       "      <td>NaN</td>\n",
       "      <td>NaN</td>\n",
       "      <td>2008-02-18</td>\n",
       "    </tr>\n",
       "    <tr>\n",
       "      <th>9997</th>\n",
       "      <td>2008</td>\n",
       "      <td>Mar</td>\n",
       "      <td>24</td>\n",
       "      <td>Monday</td>\n",
       "      <td>06:39:00</td>\n",
       "      <td>2008-03-24 06:45:00</td>\n",
       "      <td>08:29:00</td>\n",
       "      <td>08:35:00</td>\n",
       "      <td>FL</td>\n",
       "      <td>989</td>\n",
       "      <td>...</td>\n",
       "      <td>17.0</td>\n",
       "      <td>0.0</td>\n",
       "      <td>NaN</td>\n",
       "      <td>0.0</td>\n",
       "      <td>NaN</td>\n",
       "      <td>NaN</td>\n",
       "      <td>NaN</td>\n",
       "      <td>NaN</td>\n",
       "      <td>NaN</td>\n",
       "      <td>2008-03-24</td>\n",
       "    </tr>\n",
       "    <tr>\n",
       "      <th>9998</th>\n",
       "      <td>2008</td>\n",
       "      <td>Apr</td>\n",
       "      <td>24</td>\n",
       "      <td>Thursday</td>\n",
       "      <td>06:27:00</td>\n",
       "      <td>2008-04-24 06:25:00</td>\n",
       "      <td>08:19:00</td>\n",
       "      <td>08:25:00</td>\n",
       "      <td>WN</td>\n",
       "      <td>453</td>\n",
       "      <td>...</td>\n",
       "      <td>7.0</td>\n",
       "      <td>0.0</td>\n",
       "      <td>NaN</td>\n",
       "      <td>0.0</td>\n",
       "      <td>NaN</td>\n",
       "      <td>NaN</td>\n",
       "      <td>NaN</td>\n",
       "      <td>NaN</td>\n",
       "      <td>NaN</td>\n",
       "      <td>2008-04-24</td>\n",
       "    </tr>\n",
       "    <tr>\n",
       "      <th>9999</th>\n",
       "      <td>2008</td>\n",
       "      <td>May</td>\n",
       "      <td>31</td>\n",
       "      <td>Saturday</td>\n",
       "      <td>16:31:00</td>\n",
       "      <td>2008-05-31 12:10:00</td>\n",
       "      <td>19:21:00</td>\n",
       "      <td>15:07:00</td>\n",
       "      <td>AS</td>\n",
       "      <td>103</td>\n",
       "      <td>...</td>\n",
       "      <td>14.0</td>\n",
       "      <td>0.0</td>\n",
       "      <td>NaN</td>\n",
       "      <td>0.0</td>\n",
       "      <td>254.0</td>\n",
       "      <td>0.0</td>\n",
       "      <td>0.0</td>\n",
       "      <td>0.0</td>\n",
       "      <td>0.0</td>\n",
       "      <td>2008-05-31</td>\n",
       "    </tr>\n",
       "  </tbody>\n",
       "</table>\n",
       "<p>10000 rows × 30 columns</p>\n",
       "</div>"
      ],
      "text/plain": [
       "      Year Month  DayofMonth  DayOfWeek   DepTime           CRSDepTime  \\\n",
       "0     2008   Apr          16  Wednesday  19:05:00  2008-04-16 19:15:00   \n",
       "1     2008   Jan          11     Friday  09:10:00  2008-01-11 09:09:00   \n",
       "2     2008   Apr          15    Tuesday  06:00:00  2008-04-15 06:00:00   \n",
       "3     2008   Apr          13     Sunday  05:53:00  2008-04-13 06:00:00   \n",
       "4     2008   Feb           1     Friday  09:31:00  2008-02-01 09:30:00   \n",
       "...    ...   ...         ...        ...       ...                  ...   \n",
       "9995  2008   Feb          26    Tuesday       NaN  2008-02-26 18:40:00   \n",
       "9996  2008   Feb          18     Monday  18:57:00  2008-02-18 18:55:00   \n",
       "9997  2008   Mar          24     Monday  06:39:00  2008-03-24 06:45:00   \n",
       "9998  2008   Apr          24   Thursday  06:27:00  2008-04-24 06:25:00   \n",
       "9999  2008   May          31   Saturday  16:31:00  2008-05-31 12:10:00   \n",
       "\n",
       "       ArrTime CRSArrTime UniqueCarrier  FlightNum  ... TaxiOut  Cancelled  \\\n",
       "0     20:40:00   20:47:00            XE       2600  ...    18.0        0.0   \n",
       "1     11:46:00   11:30:00            FL        690  ...    15.0        0.0   \n",
       "2     07:41:00   07:45:00            DL        690  ...    15.0        0.0   \n",
       "3     08:31:00   08:37:00            NW        740  ...    14.0        0.0   \n",
       "4     16:30:00   16:37:00            US        310  ...    22.0        0.0   \n",
       "...        ...        ...           ...        ...  ...     ...        ...   \n",
       "9995       NaN   00:05:00            WN       1152  ...     NaN        1.0   \n",
       "9996  19:46:00   19:55:00            WN       1460  ...    10.0        0.0   \n",
       "9997  08:29:00   08:35:00            FL        989  ...    17.0        0.0   \n",
       "9998  08:19:00   08:25:00            WN        453  ...     7.0        0.0   \n",
       "9999  19:21:00   15:07:00            AS        103  ...    14.0        0.0   \n",
       "\n",
       "      CancellationCode  Diverted  CarrierDelay  WeatherDelay NASDelay  \\\n",
       "0                  NaN       0.0           NaN           NaN      NaN   \n",
       "1                  NaN       0.0           1.0           0.0     15.0   \n",
       "2                  NaN       0.0           NaN           NaN      NaN   \n",
       "3                  NaN       0.0           NaN           NaN      NaN   \n",
       "4                  NaN       0.0           NaN           NaN      NaN   \n",
       "...                ...       ...           ...           ...      ...   \n",
       "9995           carrier       0.0           NaN           NaN      NaN   \n",
       "9996               NaN       0.0           NaN           NaN      NaN   \n",
       "9997               NaN       0.0           NaN           NaN      NaN   \n",
       "9998               NaN       0.0           NaN           NaN      NaN   \n",
       "9999               NaN       0.0         254.0           0.0      0.0   \n",
       "\n",
       "     SecurityDelay  LateAircraftDelay        Date  \n",
       "0              NaN                NaN  2008-04-16  \n",
       "1              0.0                0.0  2008-01-11  \n",
       "2              NaN                NaN  2008-04-15  \n",
       "3              NaN                NaN  2008-04-13  \n",
       "4              NaN                NaN  2008-02-01  \n",
       "...            ...                ...         ...  \n",
       "9995           NaN                NaN  2008-02-26  \n",
       "9996           NaN                NaN  2008-02-18  \n",
       "9997           NaN                NaN  2008-03-24  \n",
       "9998           NaN                NaN  2008-04-24  \n",
       "9999           0.0                0.0  2008-05-31  \n",
       "\n",
       "[10000 rows x 30 columns]"
      ]
     },
     "execution_count": 38,
     "metadata": {},
     "output_type": "execute_result"
    }
   ],
   "source": [
    "#Due to size of data set, we will initially use a sample of the data sets to find issues with the data.\n",
    "#df_2008.sample(10000).to_csv('sampled_10000.csv')\n",
    "df = pd.read_csv('sampled_10000.csv')\n",
    "df"
   ]
  },
  {
   "cell_type": "code",
   "execution_count": 5,
   "metadata": {
    "slideshow": {
     "slide_type": "slide"
    }
   },
   "outputs": [
    {
     "name": "stdout",
     "output_type": "stream",
     "text": [
      "(10000, 30)\n",
      "Year                   int64\n",
      "Month                 object\n",
      "DayofMonth             int64\n",
      "DayOfWeek             object\n",
      "DepTime               object\n",
      "CRSDepTime            object\n",
      "ArrTime               object\n",
      "CRSArrTime            object\n",
      "UniqueCarrier         object\n",
      "FlightNum              int64\n",
      "TailNum               object\n",
      "ActualElapsedTime    float64\n",
      "CRSElapsedTime       float64\n",
      "AirTime              float64\n",
      "ArrDelay             float64\n",
      "DepDelay             float64\n",
      "Origin                object\n",
      "Dest                  object\n",
      "Distance             float64\n",
      "TaxiIn               float64\n",
      "TaxiOut              float64\n",
      "Cancelled            float64\n",
      "CancellationCode      object\n",
      "Diverted             float64\n",
      "CarrierDelay         float64\n",
      "WeatherDelay         float64\n",
      "NASDelay             float64\n",
      "SecurityDelay        float64\n",
      "LateAircraftDelay    float64\n",
      "Date                  object\n",
      "dtype: object\n",
      "   Year Month  DayofMonth  DayOfWeek   DepTime           CRSDepTime   ArrTime  \\\n",
      "0  2008   Apr          16  Wednesday  19:05:00  2008-04-16 19:15:00  20:40:00   \n",
      "1  2008   Jan          11     Friday  09:10:00  2008-01-11 09:09:00  11:46:00   \n",
      "2  2008   Apr          15    Tuesday  06:00:00  2008-04-15 06:00:00  07:41:00   \n",
      "3  2008   Apr          13     Sunday  05:53:00  2008-04-13 06:00:00  08:31:00   \n",
      "4  2008   Feb           1     Friday  09:31:00  2008-02-01 09:30:00  16:30:00   \n",
      "5  2008   Feb           8     Friday  19:00:00  2008-02-08 18:50:00  21:23:00   \n",
      "6  2008   Apr          15    Tuesday  19:22:00  2008-04-15 19:25:00  20:27:00   \n",
      "7  2008   Feb          19    Tuesday  12:15:00  2008-02-19 12:20:00  13:54:00   \n",
      "8  2008   May          15   Thursday  13:31:00  2008-05-15 13:34:00  14:48:00   \n",
      "9  2008   May          12     Monday  09:05:00  2008-05-12 09:07:00  10:17:00   \n",
      "\n",
      "  CRSArrTime UniqueCarrier  FlightNum  ... TaxiOut  Cancelled  \\\n",
      "0   20:47:00            XE       2600  ...    18.0        0.0   \n",
      "1   11:30:00            FL        690  ...    15.0        0.0   \n",
      "2   07:45:00            DL        690  ...    15.0        0.0   \n",
      "3   08:37:00            NW        740  ...    14.0        0.0   \n",
      "4   16:37:00            US        310  ...    22.0        0.0   \n",
      "5   21:30:00            CO        346  ...    22.0        0.0   \n",
      "6   20:26:00            DL       1131  ...    16.0        0.0   \n",
      "7   14:02:00            DL       1158  ...    19.0        0.0   \n",
      "8   14:19:00            OO       5718  ...    52.0        0.0   \n",
      "9   10:25:00            9E       3777  ...    19.0        0.0   \n",
      "\n",
      "   CancellationCode  Diverted  CarrierDelay  WeatherDelay NASDelay  \\\n",
      "0               NaN       0.0           NaN           NaN      NaN   \n",
      "1               NaN       0.0           1.0           0.0     15.0   \n",
      "2               NaN       0.0           NaN           NaN      NaN   \n",
      "3               NaN       0.0           NaN           NaN      NaN   \n",
      "4               NaN       0.0           NaN           NaN      NaN   \n",
      "5               NaN       0.0           NaN           NaN      NaN   \n",
      "6               NaN       0.0           NaN           NaN      NaN   \n",
      "7               NaN       0.0           NaN           NaN      NaN   \n",
      "8               NaN       0.0           0.0           0.0     29.0   \n",
      "9               NaN       0.0           NaN           NaN      NaN   \n",
      "\n",
      "  SecurityDelay  LateAircraftDelay        Date  \n",
      "0           NaN                NaN  2008-04-16  \n",
      "1           0.0                0.0  2008-01-11  \n",
      "2           NaN                NaN  2008-04-15  \n",
      "3           NaN                NaN  2008-04-13  \n",
      "4           NaN                NaN  2008-02-01  \n",
      "5           NaN                NaN  2008-02-08  \n",
      "6           NaN                NaN  2008-04-15  \n",
      "7           NaN                NaN  2008-02-19  \n",
      "8           0.0                0.0  2008-05-15  \n",
      "9           NaN                NaN  2008-05-12  \n",
      "\n",
      "[10 rows x 30 columns]\n"
     ]
    }
   ],
   "source": [
    "# high-level overview of data shape and composition\n",
    "print(df.shape)\n",
    "print(df.dtypes)\n",
    "print(df.head(10))"
   ]
  },
  {
   "cell_type": "code",
   "execution_count": 4,
   "metadata": {
    "scrolled": true,
    "slideshow": {
     "slide_type": "slide"
    }
   },
   "outputs": [
    {
     "data": {
      "text/html": [
       "<div>\n",
       "<style scoped>\n",
       "    .dataframe tbody tr th:only-of-type {\n",
       "        vertical-align: middle;\n",
       "    }\n",
       "\n",
       "    .dataframe tbody tr th {\n",
       "        vertical-align: top;\n",
       "    }\n",
       "\n",
       "    .dataframe thead th {\n",
       "        text-align: right;\n",
       "    }\n",
       "</style>\n",
       "<table border=\"1\" class=\"dataframe\">\n",
       "  <thead>\n",
       "    <tr style=\"text-align: right;\">\n",
       "      <th></th>\n",
       "      <th>Year</th>\n",
       "      <th>Month</th>\n",
       "      <th>DayofMonth</th>\n",
       "      <th>DayOfWeek</th>\n",
       "      <th>DepTime</th>\n",
       "      <th>CRSDepTime</th>\n",
       "      <th>ArrTime</th>\n",
       "      <th>CRSArrTime</th>\n",
       "      <th>UniqueCarrier</th>\n",
       "      <th>FlightNum</th>\n",
       "      <th>...</th>\n",
       "      <th>TaxiOut</th>\n",
       "      <th>Cancelled</th>\n",
       "      <th>CancellationCode</th>\n",
       "      <th>Diverted</th>\n",
       "      <th>CarrierDelay</th>\n",
       "      <th>WeatherDelay</th>\n",
       "      <th>NASDelay</th>\n",
       "      <th>SecurityDelay</th>\n",
       "      <th>LateAircraftDelay</th>\n",
       "      <th>Date</th>\n",
       "    </tr>\n",
       "  </thead>\n",
       "  <tbody>\n",
       "    <tr>\n",
       "      <th>0</th>\n",
       "      <td>2008</td>\n",
       "      <td>4</td>\n",
       "      <td>16</td>\n",
       "      <td>3</td>\n",
       "      <td>1905.0</td>\n",
       "      <td>1915</td>\n",
       "      <td>2040.0</td>\n",
       "      <td>2047</td>\n",
       "      <td>XE</td>\n",
       "      <td>2600</td>\n",
       "      <td>...</td>\n",
       "      <td>18.0</td>\n",
       "      <td>0.0</td>\n",
       "      <td>NaN</td>\n",
       "      <td>0.0</td>\n",
       "      <td>NaN</td>\n",
       "      <td>NaN</td>\n",
       "      <td>NaN</td>\n",
       "      <td>NaN</td>\n",
       "      <td>NaN</td>\n",
       "      <td>2008-04-16</td>\n",
       "    </tr>\n",
       "    <tr>\n",
       "      <th>1</th>\n",
       "      <td>2008</td>\n",
       "      <td>1</td>\n",
       "      <td>11</td>\n",
       "      <td>5</td>\n",
       "      <td>910.0</td>\n",
       "      <td>909</td>\n",
       "      <td>1146.0</td>\n",
       "      <td>1130</td>\n",
       "      <td>FL</td>\n",
       "      <td>690</td>\n",
       "      <td>...</td>\n",
       "      <td>15.0</td>\n",
       "      <td>0.0</td>\n",
       "      <td>NaN</td>\n",
       "      <td>0.0</td>\n",
       "      <td>1.0</td>\n",
       "      <td>0.0</td>\n",
       "      <td>15.0</td>\n",
       "      <td>0.0</td>\n",
       "      <td>0.0</td>\n",
       "      <td>2008-01-11</td>\n",
       "    </tr>\n",
       "    <tr>\n",
       "      <th>2</th>\n",
       "      <td>2008</td>\n",
       "      <td>4</td>\n",
       "      <td>15</td>\n",
       "      <td>2</td>\n",
       "      <td>600.0</td>\n",
       "      <td>600</td>\n",
       "      <td>741.0</td>\n",
       "      <td>745</td>\n",
       "      <td>DL</td>\n",
       "      <td>690</td>\n",
       "      <td>...</td>\n",
       "      <td>15.0</td>\n",
       "      <td>0.0</td>\n",
       "      <td>NaN</td>\n",
       "      <td>0.0</td>\n",
       "      <td>NaN</td>\n",
       "      <td>NaN</td>\n",
       "      <td>NaN</td>\n",
       "      <td>NaN</td>\n",
       "      <td>NaN</td>\n",
       "      <td>2008-04-15</td>\n",
       "    </tr>\n",
       "    <tr>\n",
       "      <th>3</th>\n",
       "      <td>2008</td>\n",
       "      <td>4</td>\n",
       "      <td>13</td>\n",
       "      <td>7</td>\n",
       "      <td>553.0</td>\n",
       "      <td>600</td>\n",
       "      <td>831.0</td>\n",
       "      <td>837</td>\n",
       "      <td>NW</td>\n",
       "      <td>740</td>\n",
       "      <td>...</td>\n",
       "      <td>14.0</td>\n",
       "      <td>0.0</td>\n",
       "      <td>NaN</td>\n",
       "      <td>0.0</td>\n",
       "      <td>NaN</td>\n",
       "      <td>NaN</td>\n",
       "      <td>NaN</td>\n",
       "      <td>NaN</td>\n",
       "      <td>NaN</td>\n",
       "      <td>2008-04-13</td>\n",
       "    </tr>\n",
       "    <tr>\n",
       "      <th>4</th>\n",
       "      <td>2008</td>\n",
       "      <td>2</td>\n",
       "      <td>1</td>\n",
       "      <td>5</td>\n",
       "      <td>931.0</td>\n",
       "      <td>930</td>\n",
       "      <td>1630.0</td>\n",
       "      <td>1637</td>\n",
       "      <td>US</td>\n",
       "      <td>310</td>\n",
       "      <td>...</td>\n",
       "      <td>22.0</td>\n",
       "      <td>0.0</td>\n",
       "      <td>NaN</td>\n",
       "      <td>0.0</td>\n",
       "      <td>NaN</td>\n",
       "      <td>NaN</td>\n",
       "      <td>NaN</td>\n",
       "      <td>NaN</td>\n",
       "      <td>NaN</td>\n",
       "      <td>2008-02-01</td>\n",
       "    </tr>\n",
       "    <tr>\n",
       "      <th>...</th>\n",
       "      <td>...</td>\n",
       "      <td>...</td>\n",
       "      <td>...</td>\n",
       "      <td>...</td>\n",
       "      <td>...</td>\n",
       "      <td>...</td>\n",
       "      <td>...</td>\n",
       "      <td>...</td>\n",
       "      <td>...</td>\n",
       "      <td>...</td>\n",
       "      <td>...</td>\n",
       "      <td>...</td>\n",
       "      <td>...</td>\n",
       "      <td>...</td>\n",
       "      <td>...</td>\n",
       "      <td>...</td>\n",
       "      <td>...</td>\n",
       "      <td>...</td>\n",
       "      <td>...</td>\n",
       "      <td>...</td>\n",
       "      <td>...</td>\n",
       "    </tr>\n",
       "    <tr>\n",
       "      <th>9995</th>\n",
       "      <td>2008</td>\n",
       "      <td>2</td>\n",
       "      <td>26</td>\n",
       "      <td>2</td>\n",
       "      <td>NaN</td>\n",
       "      <td>1840</td>\n",
       "      <td>NaN</td>\n",
       "      <td>5</td>\n",
       "      <td>WN</td>\n",
       "      <td>1152</td>\n",
       "      <td>...</td>\n",
       "      <td>NaN</td>\n",
       "      <td>1.0</td>\n",
       "      <td>A</td>\n",
       "      <td>0.0</td>\n",
       "      <td>NaN</td>\n",
       "      <td>NaN</td>\n",
       "      <td>NaN</td>\n",
       "      <td>NaN</td>\n",
       "      <td>NaN</td>\n",
       "      <td>2008-02-26</td>\n",
       "    </tr>\n",
       "    <tr>\n",
       "      <th>9996</th>\n",
       "      <td>2008</td>\n",
       "      <td>2</td>\n",
       "      <td>18</td>\n",
       "      <td>1</td>\n",
       "      <td>1857.0</td>\n",
       "      <td>1855</td>\n",
       "      <td>1946.0</td>\n",
       "      <td>1955</td>\n",
       "      <td>WN</td>\n",
       "      <td>1460</td>\n",
       "      <td>...</td>\n",
       "      <td>10.0</td>\n",
       "      <td>0.0</td>\n",
       "      <td>NaN</td>\n",
       "      <td>0.0</td>\n",
       "      <td>NaN</td>\n",
       "      <td>NaN</td>\n",
       "      <td>NaN</td>\n",
       "      <td>NaN</td>\n",
       "      <td>NaN</td>\n",
       "      <td>2008-02-18</td>\n",
       "    </tr>\n",
       "    <tr>\n",
       "      <th>9997</th>\n",
       "      <td>2008</td>\n",
       "      <td>3</td>\n",
       "      <td>24</td>\n",
       "      <td>1</td>\n",
       "      <td>639.0</td>\n",
       "      <td>645</td>\n",
       "      <td>829.0</td>\n",
       "      <td>835</td>\n",
       "      <td>FL</td>\n",
       "      <td>989</td>\n",
       "      <td>...</td>\n",
       "      <td>17.0</td>\n",
       "      <td>0.0</td>\n",
       "      <td>NaN</td>\n",
       "      <td>0.0</td>\n",
       "      <td>NaN</td>\n",
       "      <td>NaN</td>\n",
       "      <td>NaN</td>\n",
       "      <td>NaN</td>\n",
       "      <td>NaN</td>\n",
       "      <td>2008-03-24</td>\n",
       "    </tr>\n",
       "    <tr>\n",
       "      <th>9998</th>\n",
       "      <td>2008</td>\n",
       "      <td>4</td>\n",
       "      <td>24</td>\n",
       "      <td>4</td>\n",
       "      <td>627.0</td>\n",
       "      <td>625</td>\n",
       "      <td>819.0</td>\n",
       "      <td>825</td>\n",
       "      <td>WN</td>\n",
       "      <td>453</td>\n",
       "      <td>...</td>\n",
       "      <td>7.0</td>\n",
       "      <td>0.0</td>\n",
       "      <td>NaN</td>\n",
       "      <td>0.0</td>\n",
       "      <td>NaN</td>\n",
       "      <td>NaN</td>\n",
       "      <td>NaN</td>\n",
       "      <td>NaN</td>\n",
       "      <td>NaN</td>\n",
       "      <td>2008-04-24</td>\n",
       "    </tr>\n",
       "    <tr>\n",
       "      <th>9999</th>\n",
       "      <td>2008</td>\n",
       "      <td>5</td>\n",
       "      <td>31</td>\n",
       "      <td>6</td>\n",
       "      <td>1631.0</td>\n",
       "      <td>1210</td>\n",
       "      <td>1921.0</td>\n",
       "      <td>1507</td>\n",
       "      <td>AS</td>\n",
       "      <td>103</td>\n",
       "      <td>...</td>\n",
       "      <td>14.0</td>\n",
       "      <td>0.0</td>\n",
       "      <td>NaN</td>\n",
       "      <td>0.0</td>\n",
       "      <td>254.0</td>\n",
       "      <td>0.0</td>\n",
       "      <td>0.0</td>\n",
       "      <td>0.0</td>\n",
       "      <td>0.0</td>\n",
       "      <td>2008-05-31</td>\n",
       "    </tr>\n",
       "  </tbody>\n",
       "</table>\n",
       "<p>10000 rows × 30 columns</p>\n",
       "</div>"
      ],
      "text/plain": [
       "      Year  Month  DayofMonth  DayOfWeek  DepTime  CRSDepTime  ArrTime  \\\n",
       "0     2008      4          16          3   1905.0        1915   2040.0   \n",
       "1     2008      1          11          5    910.0         909   1146.0   \n",
       "2     2008      4          15          2    600.0         600    741.0   \n",
       "3     2008      4          13          7    553.0         600    831.0   \n",
       "4     2008      2           1          5    931.0         930   1630.0   \n",
       "...    ...    ...         ...        ...      ...         ...      ...   \n",
       "9995  2008      2          26          2      NaN        1840      NaN   \n",
       "9996  2008      2          18          1   1857.0        1855   1946.0   \n",
       "9997  2008      3          24          1    639.0         645    829.0   \n",
       "9998  2008      4          24          4    627.0         625    819.0   \n",
       "9999  2008      5          31          6   1631.0        1210   1921.0   \n",
       "\n",
       "      CRSArrTime UniqueCarrier  FlightNum  ... TaxiOut  Cancelled  \\\n",
       "0           2047            XE       2600  ...    18.0        0.0   \n",
       "1           1130            FL        690  ...    15.0        0.0   \n",
       "2            745            DL        690  ...    15.0        0.0   \n",
       "3            837            NW        740  ...    14.0        0.0   \n",
       "4           1637            US        310  ...    22.0        0.0   \n",
       "...          ...           ...        ...  ...     ...        ...   \n",
       "9995           5            WN       1152  ...     NaN        1.0   \n",
       "9996        1955            WN       1460  ...    10.0        0.0   \n",
       "9997         835            FL        989  ...    17.0        0.0   \n",
       "9998         825            WN        453  ...     7.0        0.0   \n",
       "9999        1507            AS        103  ...    14.0        0.0   \n",
       "\n",
       "      CancellationCode  Diverted  CarrierDelay  WeatherDelay NASDelay  \\\n",
       "0                  NaN       0.0           NaN           NaN      NaN   \n",
       "1                  NaN       0.0           1.0           0.0     15.0   \n",
       "2                  NaN       0.0           NaN           NaN      NaN   \n",
       "3                  NaN       0.0           NaN           NaN      NaN   \n",
       "4                  NaN       0.0           NaN           NaN      NaN   \n",
       "...                ...       ...           ...           ...      ...   \n",
       "9995                 A       0.0           NaN           NaN      NaN   \n",
       "9996               NaN       0.0           NaN           NaN      NaN   \n",
       "9997               NaN       0.0           NaN           NaN      NaN   \n",
       "9998               NaN       0.0           NaN           NaN      NaN   \n",
       "9999               NaN       0.0         254.0           0.0      0.0   \n",
       "\n",
       "     SecurityDelay  LateAircraftDelay       Date  \n",
       "0              NaN                NaN 2008-04-16  \n",
       "1              0.0                0.0 2008-01-11  \n",
       "2              NaN                NaN 2008-04-15  \n",
       "3              NaN                NaN 2008-04-13  \n",
       "4              NaN                NaN 2008-02-01  \n",
       "...            ...                ...        ...  \n",
       "9995           NaN                NaN 2008-02-26  \n",
       "9996           NaN                NaN 2008-02-18  \n",
       "9997           NaN                NaN 2008-03-24  \n",
       "9998           NaN                NaN 2008-04-24  \n",
       "9999           0.0                0.0 2008-05-31  \n",
       "\n",
       "[10000 rows x 30 columns]"
      ]
     },
     "execution_count": 4,
     "metadata": {},
     "output_type": "execute_result"
    }
   ],
   "source": [
    "# Date and Time Extraction\n",
    "df['Date'] = pd.to_datetime(df.Year.map(str)+'-'+df.Month.map(str)+'-'+df.DayofMonth.map(str))\n",
    "\n",
    "\n",
    "df"
   ]
  },
  {
   "cell_type": "code",
   "execution_count": 5,
   "metadata": {
    "slideshow": {
     "slide_type": "slide"
    }
   },
   "outputs": [],
   "source": [
    "# Function that convert the 'HHMM' string to datetime.time\n",
    "def format_heure(chaine):\n",
    "    if pd.isnull(chaine):\n",
    "        return np.nan\n",
    "    else:\n",
    "        if chaine == 2400: chaine = 0\n",
    "        chaine = \"{0:04d}\".format(int(chaine))\n",
    "        heure = datetime.time(int(chaine[0:2]), int(chaine[2:4]))\n",
    "        return heure\n",
    "\n",
    "# Function that combines a date and time to produce a datetime.datetime\n",
    "def combine_date_heure(x):\n",
    "    if pd.isnull(x[0]) or pd.isnull(x[1]):\n",
    "        return np.nan\n",
    "    else:\n",
    "        return datetime.datetime.combine(x[0],x[1])\n",
    "\n",
    "# Function that combine two columns of the dataframe to create a datetime format\n",
    "def create_flight_time(data, col):    \n",
    "    liste = []\n",
    "    for index, cols in data[['Date', col]].iterrows():    \n",
    "        if pd.isnull(cols[1]):\n",
    "            liste.append(np.nan)\n",
    "        elif float(cols[1]) == 2400:\n",
    "            cols[0] += datetime.timedelta(days=1)\n",
    "            cols[1] = datetime.time(0,0)\n",
    "            liste.append(combine_date_heure(cols))\n",
    "        else:\n",
    "            cols[1] = format_heure(cols[1])\n",
    "            liste.append(combine_date_heure(cols))\n",
    "    return pd.Series(liste)"
   ]
  },
  {
   "cell_type": "code",
   "execution_count": 6,
   "metadata": {
    "slideshow": {
     "slide_type": "slide"
    }
   },
   "outputs": [],
   "source": [
    "df['ArrTime'] = df['ArrTime'].apply(format_heure)\n",
    "df['CRSDepTime'] = create_flight_time(df, 'CRSDepTime')\n",
    "df['DepTime'] = df['DepTime'].apply(format_heure)\n",
    "df['CRSArrTime'] = df['CRSArrTime'].apply(format_heure)\n",
    "\n"
   ]
  },
  {
   "cell_type": "code",
   "execution_count": 7,
   "metadata": {
    "scrolled": true,
    "slideshow": {
     "slide_type": "slide"
    }
   },
   "outputs": [
    {
     "data": {
      "text/html": [
       "<div>\n",
       "<style scoped>\n",
       "    .dataframe tbody tr th:only-of-type {\n",
       "        vertical-align: middle;\n",
       "    }\n",
       "\n",
       "    .dataframe tbody tr th {\n",
       "        vertical-align: top;\n",
       "    }\n",
       "\n",
       "    .dataframe thead th {\n",
       "        text-align: right;\n",
       "    }\n",
       "</style>\n",
       "<table border=\"1\" class=\"dataframe\">\n",
       "  <thead>\n",
       "    <tr style=\"text-align: right;\">\n",
       "      <th></th>\n",
       "      <th>CRSDepTime</th>\n",
       "      <th>CRSArrTime</th>\n",
       "      <th>DepTime</th>\n",
       "      <th>ArrTime</th>\n",
       "      <th>DepDelay</th>\n",
       "      <th>ArrDelay</th>\n",
       "    </tr>\n",
       "  </thead>\n",
       "  <tbody>\n",
       "    <tr>\n",
       "      <th>0</th>\n",
       "      <td>2008-04-16 19:15:00</td>\n",
       "      <td>20:47:00</td>\n",
       "      <td>19:05:00</td>\n",
       "      <td>20:40:00</td>\n",
       "      <td>-10.0</td>\n",
       "      <td>-7.0</td>\n",
       "    </tr>\n",
       "    <tr>\n",
       "      <th>1</th>\n",
       "      <td>2008-01-11 09:09:00</td>\n",
       "      <td>11:30:00</td>\n",
       "      <td>09:10:00</td>\n",
       "      <td>11:46:00</td>\n",
       "      <td>1.0</td>\n",
       "      <td>16.0</td>\n",
       "    </tr>\n",
       "    <tr>\n",
       "      <th>2</th>\n",
       "      <td>2008-04-15 06:00:00</td>\n",
       "      <td>07:45:00</td>\n",
       "      <td>06:00:00</td>\n",
       "      <td>07:41:00</td>\n",
       "      <td>0.0</td>\n",
       "      <td>-4.0</td>\n",
       "    </tr>\n",
       "    <tr>\n",
       "      <th>3</th>\n",
       "      <td>2008-04-13 06:00:00</td>\n",
       "      <td>08:37:00</td>\n",
       "      <td>05:53:00</td>\n",
       "      <td>08:31:00</td>\n",
       "      <td>-7.0</td>\n",
       "      <td>-6.0</td>\n",
       "    </tr>\n",
       "    <tr>\n",
       "      <th>4</th>\n",
       "      <td>2008-02-01 09:30:00</td>\n",
       "      <td>16:37:00</td>\n",
       "      <td>09:31:00</td>\n",
       "      <td>16:30:00</td>\n",
       "      <td>1.0</td>\n",
       "      <td>-7.0</td>\n",
       "    </tr>\n",
       "    <tr>\n",
       "      <th>5</th>\n",
       "      <td>2008-02-08 18:50:00</td>\n",
       "      <td>21:30:00</td>\n",
       "      <td>19:00:00</td>\n",
       "      <td>21:23:00</td>\n",
       "      <td>10.0</td>\n",
       "      <td>-7.0</td>\n",
       "    </tr>\n",
       "  </tbody>\n",
       "</table>\n",
       "</div>"
      ],
      "text/plain": [
       "           CRSDepTime CRSArrTime   DepTime   ArrTime  DepDelay  ArrDelay\n",
       "0 2008-04-16 19:15:00   20:47:00  19:05:00  20:40:00     -10.0      -7.0\n",
       "1 2008-01-11 09:09:00   11:30:00  09:10:00  11:46:00       1.0      16.0\n",
       "2 2008-04-15 06:00:00   07:45:00  06:00:00  07:41:00       0.0      -4.0\n",
       "3 2008-04-13 06:00:00   08:37:00  05:53:00  08:31:00      -7.0      -6.0\n",
       "4 2008-02-01 09:30:00   16:37:00  09:31:00  16:30:00       1.0      -7.0\n",
       "5 2008-02-08 18:50:00   21:30:00  19:00:00  21:23:00      10.0      -7.0"
      ]
     },
     "execution_count": 7,
     "metadata": {},
     "output_type": "execute_result"
    }
   ],
   "source": [
    "df.loc[:5, ['CRSDepTime', 'CRSArrTime', 'DepTime',\n",
    "             'ArrTime', 'DepDelay', 'ArrDelay']]\n"
   ]
  },
  {
   "cell_type": "code",
   "execution_count": 25,
   "metadata": {},
   "outputs": [
    {
     "name": "stdout",
     "output_type": "stream",
     "text": [
      "Collecting sorted-months-weekdays\n",
      "  Downloading sorted_months_weekdays-0.2.tar.gz (2.7 kB)\n",
      "Building wheels for collected packages: sorted-months-weekdays\n",
      "  Building wheel for sorted-months-weekdays (setup.py): started\n",
      "  Building wheel for sorted-months-weekdays (setup.py): finished with status 'done'\n",
      "  Created wheel for sorted-months-weekdays: filename=sorted_months_weekdays-0.2-py3-none-any.whl size=3246 sha256=85d3db95dbbf38ee6885aad4053bdcbea2540e35c3d028f622d987554979e9ff\n",
      "  Stored in directory: c:\\users\\mohamed\\appdata\\local\\pip\\cache\\wheels\\9a\\0d\\2e\\309df76f445367ea1777b73df0feb347b9c8d204ead35fdb10\n",
      "Successfully built sorted-months-weekdays\n",
      "Installing collected packages: sorted-months-weekdays\n",
      "Successfully installed sorted-months-weekdays-0.2\n",
      "Collecting sort-dataframeby-monthorweek\n",
      "  Downloading sort_dataframeby_monthorweek-0.4.tar.gz (2.8 kB)\n",
      "Building wheels for collected packages: sort-dataframeby-monthorweek\n",
      "  Building wheel for sort-dataframeby-monthorweek (setup.py): started\n",
      "  Building wheel for sort-dataframeby-monthorweek (setup.py): finished with status 'done'\n",
      "  Created wheel for sort-dataframeby-monthorweek: filename=sort_dataframeby_monthorweek-0.4-py3-none-any.whl size=3443 sha256=ce7e564e0189a8f405b9eafd9b06f9bb5515592fb2497e439a928eec7d4956e6\n",
      "  Stored in directory: c:\\users\\mohamed\\appdata\\local\\pip\\cache\\wheels\\f8\\84\\15\\465a1c7eabab8605e82621b7aa658c99010f3564a43ccd06aa\n",
      "Successfully built sort-dataframeby-monthorweek\n",
      "Installing collected packages: sort-dataframeby-monthorweek\n",
      "Successfully installed sort-dataframeby-monthorweek-0.4\n"
     ]
    }
   ],
   "source": [
    "! pip install sorted-months-weekdays\n",
    "! pip install sort-dataframeby-monthorweek"
   ]
  },
  {
   "cell_type": "code",
   "execution_count": 36,
   "metadata": {
    "slideshow": {
     "slide_type": "slide"
    }
   },
   "outputs": [
    {
     "data": {
      "text/html": [
       "<div>\n",
       "<style scoped>\n",
       "    .dataframe tbody tr th:only-of-type {\n",
       "        vertical-align: middle;\n",
       "    }\n",
       "\n",
       "    .dataframe tbody tr th {\n",
       "        vertical-align: top;\n",
       "    }\n",
       "\n",
       "    .dataframe thead th {\n",
       "        text-align: right;\n",
       "    }\n",
       "</style>\n",
       "<table border=\"1\" class=\"dataframe\">\n",
       "  <thead>\n",
       "    <tr style=\"text-align: right;\">\n",
       "      <th></th>\n",
       "      <th>Year</th>\n",
       "      <th>Month</th>\n",
       "      <th>DayofMonth</th>\n",
       "      <th>DayOfWeek</th>\n",
       "      <th>DepTime</th>\n",
       "      <th>CRSDepTime</th>\n",
       "      <th>ArrTime</th>\n",
       "      <th>CRSArrTime</th>\n",
       "      <th>UniqueCarrier</th>\n",
       "      <th>FlightNum</th>\n",
       "      <th>...</th>\n",
       "      <th>TaxiOut</th>\n",
       "      <th>Cancelled</th>\n",
       "      <th>CancellationCode</th>\n",
       "      <th>Diverted</th>\n",
       "      <th>CarrierDelay</th>\n",
       "      <th>WeatherDelay</th>\n",
       "      <th>NASDelay</th>\n",
       "      <th>SecurityDelay</th>\n",
       "      <th>LateAircraftDelay</th>\n",
       "      <th>Date</th>\n",
       "    </tr>\n",
       "  </thead>\n",
       "  <tbody>\n",
       "    <tr>\n",
       "      <th>0</th>\n",
       "      <td>2008</td>\n",
       "      <td>Jan</td>\n",
       "      <td>16</td>\n",
       "      <td>NaN</td>\n",
       "      <td>19:05:00</td>\n",
       "      <td>2008-04-16 19:15:00</td>\n",
       "      <td>20:40:00</td>\n",
       "      <td>20:47:00</td>\n",
       "      <td>XE</td>\n",
       "      <td>2600</td>\n",
       "      <td>...</td>\n",
       "      <td>18.0</td>\n",
       "      <td>0.0</td>\n",
       "      <td>NaN</td>\n",
       "      <td>0.0</td>\n",
       "      <td>NaN</td>\n",
       "      <td>NaN</td>\n",
       "      <td>NaN</td>\n",
       "      <td>NaN</td>\n",
       "      <td>NaN</td>\n",
       "      <td>2008-04-16</td>\n",
       "    </tr>\n",
       "    <tr>\n",
       "      <th>1</th>\n",
       "      <td>2008</td>\n",
       "      <td>Jan</td>\n",
       "      <td>11</td>\n",
       "      <td>NaN</td>\n",
       "      <td>09:10:00</td>\n",
       "      <td>2008-01-11 09:09:00</td>\n",
       "      <td>11:46:00</td>\n",
       "      <td>11:30:00</td>\n",
       "      <td>FL</td>\n",
       "      <td>690</td>\n",
       "      <td>...</td>\n",
       "      <td>15.0</td>\n",
       "      <td>0.0</td>\n",
       "      <td>NaN</td>\n",
       "      <td>0.0</td>\n",
       "      <td>1.0</td>\n",
       "      <td>0.0</td>\n",
       "      <td>15.0</td>\n",
       "      <td>0.0</td>\n",
       "      <td>0.0</td>\n",
       "      <td>2008-01-11</td>\n",
       "    </tr>\n",
       "    <tr>\n",
       "      <th>2</th>\n",
       "      <td>2008</td>\n",
       "      <td>Jan</td>\n",
       "      <td>15</td>\n",
       "      <td>NaN</td>\n",
       "      <td>06:00:00</td>\n",
       "      <td>2008-04-15 06:00:00</td>\n",
       "      <td>07:41:00</td>\n",
       "      <td>07:45:00</td>\n",
       "      <td>DL</td>\n",
       "      <td>690</td>\n",
       "      <td>...</td>\n",
       "      <td>15.0</td>\n",
       "      <td>0.0</td>\n",
       "      <td>NaN</td>\n",
       "      <td>0.0</td>\n",
       "      <td>NaN</td>\n",
       "      <td>NaN</td>\n",
       "      <td>NaN</td>\n",
       "      <td>NaN</td>\n",
       "      <td>NaN</td>\n",
       "      <td>2008-04-15</td>\n",
       "    </tr>\n",
       "    <tr>\n",
       "      <th>3</th>\n",
       "      <td>2008</td>\n",
       "      <td>Jan</td>\n",
       "      <td>13</td>\n",
       "      <td>NaN</td>\n",
       "      <td>05:53:00</td>\n",
       "      <td>2008-04-13 06:00:00</td>\n",
       "      <td>08:31:00</td>\n",
       "      <td>08:37:00</td>\n",
       "      <td>NW</td>\n",
       "      <td>740</td>\n",
       "      <td>...</td>\n",
       "      <td>14.0</td>\n",
       "      <td>0.0</td>\n",
       "      <td>NaN</td>\n",
       "      <td>0.0</td>\n",
       "      <td>NaN</td>\n",
       "      <td>NaN</td>\n",
       "      <td>NaN</td>\n",
       "      <td>NaN</td>\n",
       "      <td>NaN</td>\n",
       "      <td>2008-04-13</td>\n",
       "    </tr>\n",
       "    <tr>\n",
       "      <th>4</th>\n",
       "      <td>2008</td>\n",
       "      <td>Jan</td>\n",
       "      <td>1</td>\n",
       "      <td>NaN</td>\n",
       "      <td>09:31:00</td>\n",
       "      <td>2008-02-01 09:30:00</td>\n",
       "      <td>16:30:00</td>\n",
       "      <td>16:37:00</td>\n",
       "      <td>US</td>\n",
       "      <td>310</td>\n",
       "      <td>...</td>\n",
       "      <td>22.0</td>\n",
       "      <td>0.0</td>\n",
       "      <td>NaN</td>\n",
       "      <td>0.0</td>\n",
       "      <td>NaN</td>\n",
       "      <td>NaN</td>\n",
       "      <td>NaN</td>\n",
       "      <td>NaN</td>\n",
       "      <td>NaN</td>\n",
       "      <td>2008-02-01</td>\n",
       "    </tr>\n",
       "    <tr>\n",
       "      <th>...</th>\n",
       "      <td>...</td>\n",
       "      <td>...</td>\n",
       "      <td>...</td>\n",
       "      <td>...</td>\n",
       "      <td>...</td>\n",
       "      <td>...</td>\n",
       "      <td>...</td>\n",
       "      <td>...</td>\n",
       "      <td>...</td>\n",
       "      <td>...</td>\n",
       "      <td>...</td>\n",
       "      <td>...</td>\n",
       "      <td>...</td>\n",
       "      <td>...</td>\n",
       "      <td>...</td>\n",
       "      <td>...</td>\n",
       "      <td>...</td>\n",
       "      <td>...</td>\n",
       "      <td>...</td>\n",
       "      <td>...</td>\n",
       "      <td>...</td>\n",
       "    </tr>\n",
       "    <tr>\n",
       "      <th>9995</th>\n",
       "      <td>2008</td>\n",
       "      <td>Jul</td>\n",
       "      <td>26</td>\n",
       "      <td>NaN</td>\n",
       "      <td>NaN</td>\n",
       "      <td>2008-02-26 18:40:00</td>\n",
       "      <td>NaN</td>\n",
       "      <td>00:05:00</td>\n",
       "      <td>WN</td>\n",
       "      <td>1152</td>\n",
       "      <td>...</td>\n",
       "      <td>NaN</td>\n",
       "      <td>1.0</td>\n",
       "      <td>carrier</td>\n",
       "      <td>0.0</td>\n",
       "      <td>NaN</td>\n",
       "      <td>NaN</td>\n",
       "      <td>NaN</td>\n",
       "      <td>NaN</td>\n",
       "      <td>NaN</td>\n",
       "      <td>2008-02-26</td>\n",
       "    </tr>\n",
       "    <tr>\n",
       "      <th>9996</th>\n",
       "      <td>2008</td>\n",
       "      <td>Jul</td>\n",
       "      <td>18</td>\n",
       "      <td>NaN</td>\n",
       "      <td>18:57:00</td>\n",
       "      <td>2008-02-18 18:55:00</td>\n",
       "      <td>19:46:00</td>\n",
       "      <td>19:55:00</td>\n",
       "      <td>WN</td>\n",
       "      <td>1460</td>\n",
       "      <td>...</td>\n",
       "      <td>10.0</td>\n",
       "      <td>0.0</td>\n",
       "      <td>NaN</td>\n",
       "      <td>0.0</td>\n",
       "      <td>NaN</td>\n",
       "      <td>NaN</td>\n",
       "      <td>NaN</td>\n",
       "      <td>NaN</td>\n",
       "      <td>NaN</td>\n",
       "      <td>2008-02-18</td>\n",
       "    </tr>\n",
       "    <tr>\n",
       "      <th>9997</th>\n",
       "      <td>2008</td>\n",
       "      <td>Jul</td>\n",
       "      <td>24</td>\n",
       "      <td>NaN</td>\n",
       "      <td>06:39:00</td>\n",
       "      <td>2008-03-24 06:45:00</td>\n",
       "      <td>08:29:00</td>\n",
       "      <td>08:35:00</td>\n",
       "      <td>FL</td>\n",
       "      <td>989</td>\n",
       "      <td>...</td>\n",
       "      <td>17.0</td>\n",
       "      <td>0.0</td>\n",
       "      <td>NaN</td>\n",
       "      <td>0.0</td>\n",
       "      <td>NaN</td>\n",
       "      <td>NaN</td>\n",
       "      <td>NaN</td>\n",
       "      <td>NaN</td>\n",
       "      <td>NaN</td>\n",
       "      <td>2008-03-24</td>\n",
       "    </tr>\n",
       "    <tr>\n",
       "      <th>9998</th>\n",
       "      <td>2008</td>\n",
       "      <td>Jul</td>\n",
       "      <td>24</td>\n",
       "      <td>NaN</td>\n",
       "      <td>06:27:00</td>\n",
       "      <td>2008-04-24 06:25:00</td>\n",
       "      <td>08:19:00</td>\n",
       "      <td>08:25:00</td>\n",
       "      <td>WN</td>\n",
       "      <td>453</td>\n",
       "      <td>...</td>\n",
       "      <td>7.0</td>\n",
       "      <td>0.0</td>\n",
       "      <td>NaN</td>\n",
       "      <td>0.0</td>\n",
       "      <td>NaN</td>\n",
       "      <td>NaN</td>\n",
       "      <td>NaN</td>\n",
       "      <td>NaN</td>\n",
       "      <td>NaN</td>\n",
       "      <td>2008-04-24</td>\n",
       "    </tr>\n",
       "    <tr>\n",
       "      <th>9999</th>\n",
       "      <td>2008</td>\n",
       "      <td>Jul</td>\n",
       "      <td>31</td>\n",
       "      <td>NaN</td>\n",
       "      <td>16:31:00</td>\n",
       "      <td>2008-05-31 12:10:00</td>\n",
       "      <td>19:21:00</td>\n",
       "      <td>15:07:00</td>\n",
       "      <td>AS</td>\n",
       "      <td>103</td>\n",
       "      <td>...</td>\n",
       "      <td>14.0</td>\n",
       "      <td>0.0</td>\n",
       "      <td>NaN</td>\n",
       "      <td>0.0</td>\n",
       "      <td>254.0</td>\n",
       "      <td>0.0</td>\n",
       "      <td>0.0</td>\n",
       "      <td>0.0</td>\n",
       "      <td>0.0</td>\n",
       "      <td>2008-05-31</td>\n",
       "    </tr>\n",
       "  </tbody>\n",
       "</table>\n",
       "<p>10000 rows × 30 columns</p>\n",
       "</div>"
      ],
      "text/plain": [
       "      Year Month  DayofMonth DayOfWeek   DepTime           CRSDepTime  \\\n",
       "0     2008   Jan          16       NaN  19:05:00  2008-04-16 19:15:00   \n",
       "1     2008   Jan          11       NaN  09:10:00  2008-01-11 09:09:00   \n",
       "2     2008   Jan          15       NaN  06:00:00  2008-04-15 06:00:00   \n",
       "3     2008   Jan          13       NaN  05:53:00  2008-04-13 06:00:00   \n",
       "4     2008   Jan           1       NaN  09:31:00  2008-02-01 09:30:00   \n",
       "...    ...   ...         ...       ...       ...                  ...   \n",
       "9995  2008   Jul          26       NaN       NaN  2008-02-26 18:40:00   \n",
       "9996  2008   Jul          18       NaN  18:57:00  2008-02-18 18:55:00   \n",
       "9997  2008   Jul          24       NaN  06:39:00  2008-03-24 06:45:00   \n",
       "9998  2008   Jul          24       NaN  06:27:00  2008-04-24 06:25:00   \n",
       "9999  2008   Jul          31       NaN  16:31:00  2008-05-31 12:10:00   \n",
       "\n",
       "       ArrTime CRSArrTime UniqueCarrier  FlightNum  ... TaxiOut  Cancelled  \\\n",
       "0     20:40:00   20:47:00            XE       2600  ...    18.0        0.0   \n",
       "1     11:46:00   11:30:00            FL        690  ...    15.0        0.0   \n",
       "2     07:41:00   07:45:00            DL        690  ...    15.0        0.0   \n",
       "3     08:31:00   08:37:00            NW        740  ...    14.0        0.0   \n",
       "4     16:30:00   16:37:00            US        310  ...    22.0        0.0   \n",
       "...        ...        ...           ...        ...  ...     ...        ...   \n",
       "9995       NaN   00:05:00            WN       1152  ...     NaN        1.0   \n",
       "9996  19:46:00   19:55:00            WN       1460  ...    10.0        0.0   \n",
       "9997  08:29:00   08:35:00            FL        989  ...    17.0        0.0   \n",
       "9998  08:19:00   08:25:00            WN        453  ...     7.0        0.0   \n",
       "9999  19:21:00   15:07:00            AS        103  ...    14.0        0.0   \n",
       "\n",
       "      CancellationCode  Diverted  CarrierDelay  WeatherDelay NASDelay  \\\n",
       "0                  NaN       0.0           NaN           NaN      NaN   \n",
       "1                  NaN       0.0           1.0           0.0     15.0   \n",
       "2                  NaN       0.0           NaN           NaN      NaN   \n",
       "3                  NaN       0.0           NaN           NaN      NaN   \n",
       "4                  NaN       0.0           NaN           NaN      NaN   \n",
       "...                ...       ...           ...           ...      ...   \n",
       "9995           carrier       0.0           NaN           NaN      NaN   \n",
       "9996               NaN       0.0           NaN           NaN      NaN   \n",
       "9997               NaN       0.0           NaN           NaN      NaN   \n",
       "9998               NaN       0.0           NaN           NaN      NaN   \n",
       "9999               NaN       0.0         254.0           0.0      0.0   \n",
       "\n",
       "     SecurityDelay  LateAircraftDelay        Date  \n",
       "0              NaN                NaN  2008-04-16  \n",
       "1              0.0                0.0  2008-01-11  \n",
       "2              NaN                NaN  2008-04-15  \n",
       "3              NaN                NaN  2008-04-13  \n",
       "4              NaN                NaN  2008-02-01  \n",
       "...            ...                ...         ...  \n",
       "9995           NaN                NaN  2008-02-26  \n",
       "9996           NaN                NaN  2008-02-18  \n",
       "9997           NaN                NaN  2008-03-24  \n",
       "9998           NaN                NaN  2008-04-24  \n",
       "9999           0.0                0.0  2008-05-31  \n",
       "\n",
       "[10000 rows x 30 columns]"
      ]
     },
     "execution_count": 36,
     "metadata": {},
     "output_type": "execute_result"
    }
   ],
   "source": [
    "# convert Month and Day Of Week numbers to actual months and days  \n",
    "from sorted_months_weekdays import *\n",
    "from sort_dataframeby_monthorweek import *\n",
    "dayOfWeek={1:'Monday', 2:'Tuesday', 3:'Wednesday', 4:'Thursday', 5:'Friday', 6:'Saturday', 7:'Sunday'}\n",
    "df['DayOfWeek'] = df['DayOfWeek'].map(dayOfWeek)\n",
    "import calendar\n",
    "df['Month'] = df['Month'].apply(lambda x: calendar.month_abbr[x])\n",
    "# convert Cancellation Code 'A': 'carrier', 'B': 'weather', 'C': 'NAS', 'D': 'security'\n",
    "df['CancellationCode'].replace({'A': 'carrier', 'B': 'weather', 'C': 'NAS', 'D': 'security'}, inplace = True)\n",
    "df"
   ]
  },
  {
   "cell_type": "code",
   "execution_count": 10,
   "metadata": {
    "slideshow": {
     "slide_type": "slide"
    }
   },
   "outputs": [
    {
     "name": "stdout",
     "output_type": "stream",
     "text": [
      "          Year    DayofMonth     FlightNum  ActualElapsedTime  CRSElapsedTime  \\\n",
      "count  10000.0  10000.000000  10000.000000        9738.000000    10000.000000   \n",
      "mean    2008.0     15.684100   2227.337600         127.430376      128.098100   \n",
      "std        0.0      8.807557   1930.024575          71.095155       69.472073   \n",
      "min     2008.0      1.000000      1.000000          20.000000       24.000000   \n",
      "25%     2008.0      8.000000    638.000000          76.000000       79.000000   \n",
      "50%     2008.0     16.000000   1591.000000         110.000000      110.000000   \n",
      "75%     2008.0     23.000000   3558.500000         158.000000      158.000000   \n",
      "max     2008.0     31.000000   7829.000000         662.000000      660.000000   \n",
      "\n",
      "           AirTime     ArrDelay     DepDelay      Distance       TaxiIn  \\\n",
      "count  9738.000000  9738.000000  9769.000000  10000.000000  9738.000000   \n",
      "mean    103.900082    10.115527    11.126420    719.651700     6.882933   \n",
      "std      68.038524    40.375997    36.818746    562.332581     5.031875   \n",
      "min      11.000000   -59.000000   -34.000000     31.000000     0.000000   \n",
      "25%      55.000000    -9.000000    -4.000000    324.000000     4.000000   \n",
      "50%      86.000000     0.000000     0.000000    577.000000     6.000000   \n",
      "75%     132.000000    15.000000    10.000000    948.000000     8.000000   \n",
      "max     621.000000  1040.000000  1042.000000   4962.000000    79.000000   \n",
      "\n",
      "           TaxiOut     Cancelled      Diverted  CarrierDelay  WeatherDelay  \\\n",
      "count  9769.000000  10000.000000  10000.000000   2449.000000   2449.000000   \n",
      "mean     16.668953      0.023100      0.003100     16.006942      2.712127   \n",
      "std      11.930668      0.150229      0.055594     45.359669     16.292943   \n",
      "min       1.000000      0.000000      0.000000      0.000000      0.000000   \n",
      "25%      10.000000      0.000000      0.000000      0.000000      0.000000   \n",
      "50%      14.000000      0.000000      0.000000      0.000000      0.000000   \n",
      "75%      19.000000      0.000000      0.000000     16.000000      0.000000   \n",
      "max     203.000000      1.000000      1.000000    845.000000    236.000000   \n",
      "\n",
      "          NASDelay  SecurityDelay  LateAircraftDelay  \n",
      "count  2449.000000    2449.000000        2449.000000  \n",
      "mean     16.447938       0.070641          19.857901  \n",
      "std      30.863218       1.789674          36.051936  \n",
      "min       0.000000       0.000000           0.000000  \n",
      "25%       0.000000       0.000000           0.000000  \n",
      "50%       5.000000       0.000000           0.000000  \n",
      "75%      21.000000       0.000000          25.000000  \n",
      "max     501.000000      80.000000         360.000000  \n"
     ]
    }
   ],
   "source": [
    "# descriptive statistics for numeric variables\n",
    "print(df.describe())"
   ]
  },
  {
   "cell_type": "markdown",
   "metadata": {
    "slideshow": {
     "slide_type": "slide"
    }
   },
   "source": [
    "# What is the structure of your dataset?\n",
    "There are 100000 Flights in the dataset with the following variables:\n",
    "\n",
    "Year int,\n",
    "Month int,\n",
    "DayofMonth int,\n",
    "DayOfWeek int,\n",
    "DepTime int,\n",
    "CRSDepTime int,\n",
    "ArrTime int,\n",
    "CRSArrTime int,\n",
    "UniqueCarrier varchar(5),\n",
    "FlightNum int,\n",
    "TailNum varchar(8),\n",
    "ActualElapsedTime int,\n",
    "CRSElapsedTime int,\n",
    "AirTime int,\n",
    "ArrDelay int,\n",
    "DepDelay int,\n",
    "Origin varchar(3),\n",
    "Dest varchar(3),\n",
    "Distance int,\n",
    "TaxiIn int,\n",
    "TaxiOut int,\n",
    "Cancelled int,\n",
    "CancellationCode varchar(1),\n",
    "Diverted varchar(1),\n",
    "CarrierDelay int,\n",
    "WeatherDelay int,\n",
    "NASDelay int,\n",
    "SecurityDelay int,\n",
    "LateAircraftDelay int\n",
    "\n",
    "# What is/are the main feature(s) of interest in your dataset?\n",
    "I'm most interested in figuring out what features are best for predicting the flight is delayed or cancelled. I am also interested in the proportion of delays and cancellations for day of week and month of year.\n",
    "\n",
    "\n",
    "# What features in the dataset do you think will help support your investigation into your feature(s) of interest?\n",
    "I expect that delays(ArrDelay and DepDelay) will have the strongest effect on  delay or cancellation the less delays ,This means that the CancellationCode column and each of the delay columns will be of interest. To calculate the number of flights, I plan to use the .value_counts() on the Month and DayOfWeek columns."
   ]
  },
  {
   "cell_type": "markdown",
   "metadata": {
    "slideshow": {
     "slide_type": "slide"
    }
   },
   "source": [
    "# Univariate Exploration"
   ]
  },
  {
   "cell_type": "code",
   "execution_count": 40,
   "metadata": {
    "slideshow": {
     "slide_type": "slide"
    }
   },
   "outputs": [
    {
     "data": {
      "text/html": [
       "<div>\n",
       "<style scoped>\n",
       "    .dataframe tbody tr th:only-of-type {\n",
       "        vertical-align: middle;\n",
       "    }\n",
       "\n",
       "    .dataframe tbody tr th {\n",
       "        vertical-align: top;\n",
       "    }\n",
       "\n",
       "    .dataframe thead th {\n",
       "        text-align: right;\n",
       "    }\n",
       "</style>\n",
       "<table border=\"1\" class=\"dataframe\">\n",
       "  <thead>\n",
       "    <tr style=\"text-align: right;\">\n",
       "      <th></th>\n",
       "      <th>Month</th>\n",
       "      <th>Total_Flights</th>\n",
       "    </tr>\n",
       "  </thead>\n",
       "  <tbody>\n",
       "    <tr>\n",
       "      <th>0</th>\n",
       "      <td>Jan</td>\n",
       "      <td>1615</td>\n",
       "    </tr>\n",
       "    <tr>\n",
       "      <th>1</th>\n",
       "      <td>Feb</td>\n",
       "      <td>1497</td>\n",
       "    </tr>\n",
       "    <tr>\n",
       "      <th>2</th>\n",
       "      <td>Mar</td>\n",
       "      <td>1637</td>\n",
       "    </tr>\n",
       "    <tr>\n",
       "      <th>3</th>\n",
       "      <td>Apr</td>\n",
       "      <td>1633</td>\n",
       "    </tr>\n",
       "    <tr>\n",
       "      <th>4</th>\n",
       "      <td>May</td>\n",
       "      <td>1679</td>\n",
       "    </tr>\n",
       "    <tr>\n",
       "      <th>5</th>\n",
       "      <td>Jun</td>\n",
       "      <td>1606</td>\n",
       "    </tr>\n",
       "    <tr>\n",
       "      <th>6</th>\n",
       "      <td>Jul</td>\n",
       "      <td>333</td>\n",
       "    </tr>\n",
       "  </tbody>\n",
       "</table>\n",
       "</div>"
      ],
      "text/plain": [
       "  Month  Total_Flights\n",
       "0   Jan           1615\n",
       "1   Feb           1497\n",
       "2   Mar           1637\n",
       "3   Apr           1633\n",
       "4   May           1679\n",
       "5   Jun           1606\n",
       "6   Jul            333"
      ]
     },
     "execution_count": 40,
     "metadata": {},
     "output_type": "execute_result"
    }
   ],
   "source": [
    "# Total Flights by Month\n",
    "flights_by_month = df.Month.value_counts().reset_index()\n",
    "flights_by_month.columns = [\"Month\", \"Total_Flights\"]\n",
    "flights_by_month=Sort_Dataframeby_Month(df=flights_by_month,monthcolumnname='Month')\n",
    "flights_by_month"
   ]
  },
  {
   "cell_type": "code",
   "execution_count": 41,
   "metadata": {
    "slideshow": {
     "slide_type": "slide"
    }
   },
   "outputs": [
    {
     "data": {
      "image/png": "[encoded data removed]",
      "text/plain": [
       "<Figure size 432x288 with 1 Axes>"
      ]
     },
     "metadata": {
      "needs_background": "light"
     },
     "output_type": "display_data"
    }
   ],
   "source": [
    "ax = flights_by_month.plot(kind='bar', x='Month', y='Total_Flights')\n",
    "#plt.xticks(range(0,12))\n",
    "plt.title(\"Total Flights by Month\")\n",
    "plt.ylabel(\"Total Flights\")\n",
    "plt.show();"
   ]
  },
  {
   "cell_type": "markdown",
   "metadata": {
    "slideshow": {
     "slide_type": "subslide"
    }
   },
   "source": [
    "Most flights occur in the months of Mar and May. the least flights are in the month Jul."
   ]
  },
  {
   "cell_type": "code",
   "execution_count": 45,
   "metadata": {
    "slideshow": {
     "slide_type": "slide"
    }
   },
   "outputs": [
    {
     "data": {
      "text/html": [
       "<div>\n",
       "<style scoped>\n",
       "    .dataframe tbody tr th:only-of-type {\n",
       "        vertical-align: middle;\n",
       "    }\n",
       "\n",
       "    .dataframe tbody tr th {\n",
       "        vertical-align: top;\n",
       "    }\n",
       "\n",
       "    .dataframe thead th {\n",
       "        text-align: right;\n",
       "    }\n",
       "</style>\n",
       "<table border=\"1\" class=\"dataframe\">\n",
       "  <thead>\n",
       "    <tr style=\"text-align: right;\">\n",
       "      <th></th>\n",
       "      <th>Day_of_Week</th>\n",
       "      <th>Total_Flights</th>\n",
       "    </tr>\n",
       "  </thead>\n",
       "  <tbody>\n",
       "    <tr>\n",
       "      <th>0</th>\n",
       "      <td>Monday</td>\n",
       "      <td>1483</td>\n",
       "    </tr>\n",
       "    <tr>\n",
       "      <th>1</th>\n",
       "      <td>Tuesday</td>\n",
       "      <td>1465</td>\n",
       "    </tr>\n",
       "    <tr>\n",
       "      <th>2</th>\n",
       "      <td>Wednesday</td>\n",
       "      <td>1480</td>\n",
       "    </tr>\n",
       "    <tr>\n",
       "      <th>3</th>\n",
       "      <td>Thursday</td>\n",
       "      <td>1493</td>\n",
       "    </tr>\n",
       "    <tr>\n",
       "      <th>4</th>\n",
       "      <td>Friday</td>\n",
       "      <td>1440</td>\n",
       "    </tr>\n",
       "    <tr>\n",
       "      <th>5</th>\n",
       "      <td>Saturday</td>\n",
       "      <td>1233</td>\n",
       "    </tr>\n",
       "    <tr>\n",
       "      <th>6</th>\n",
       "      <td>Sunday</td>\n",
       "      <td>1406</td>\n",
       "    </tr>\n",
       "  </tbody>\n",
       "</table>\n",
       "</div>"
      ],
      "text/plain": [
       "  Day_of_Week  Total_Flights\n",
       "0      Monday           1483\n",
       "1     Tuesday           1465\n",
       "2   Wednesday           1480\n",
       "3    Thursday           1493\n",
       "4      Friday           1440\n",
       "5    Saturday           1233\n",
       "6      Sunday           1406"
      ]
     },
     "execution_count": 45,
     "metadata": {},
     "output_type": "execute_result"
    }
   ],
   "source": [
    "# Total Flights by  Day of Week \n",
    "flights_by_Day_of_Week = df.DayOfWeek.value_counts().reset_index()\n",
    "flights_by_Day_of_Week.columns = [\"Day_of_Week\", \"Total_Flights\"]\n",
    "flights_by_Day_of_Week=Sort_Dataframeby_Weekday(df=flights_by_Day_of_Week,Weekdaycolumnname='Day_of_Week')\n",
    "flights_by_Day_of_Week\n"
   ]
  },
  {
   "cell_type": "code",
   "execution_count": 46,
   "metadata": {
    "scrolled": false,
    "slideshow": {
     "slide_type": "slide"
    }
   },
   "outputs": [
    {
     "data": {
      "image/png": "[encoded data removed]",
      "text/plain": [
       "<Figure size 432x288 with 1 Axes>"
      ]
     },
     "metadata": {
      "needs_background": "light"
     },
     "output_type": "display_data"
    }
   ],
   "source": [
    "ax = flights_by_Day_of_Week.plot(kind='bar', x='Day_of_Week', y='Total_Flights')\n",
    "plt.title(\"Total Flights by Day_of_Week\")\n",
    "plt.ylabel(\"Total Flights\")\n",
    "plt.show();"
   ]
  },
  {
   "cell_type": "markdown",
   "metadata": {
    "slideshow": {
     "slide_type": "subslide"
    }
   },
   "source": [
    "Most flights occur on Thursday. Saturday have the least number of flights"
   ]
  },
  {
   "cell_type": "code",
   "execution_count": 29,
   "metadata": {
    "slideshow": {
     "slide_type": "slide"
    }
   },
   "outputs": [
    {
     "data": {
      "text/html": [
       "<div>\n",
       "<style scoped>\n",
       "    .dataframe tbody tr th:only-of-type {\n",
       "        vertical-align: middle;\n",
       "    }\n",
       "\n",
       "    .dataframe tbody tr th {\n",
       "        vertical-align: top;\n",
       "    }\n",
       "\n",
       "    .dataframe thead th {\n",
       "        text-align: right;\n",
       "    }\n",
       "</style>\n",
       "<table border=\"1\" class=\"dataframe\">\n",
       "  <thead>\n",
       "    <tr style=\"text-align: right;\">\n",
       "      <th></th>\n",
       "      <th>Date</th>\n",
       "      <th>Total_Flights</th>\n",
       "    </tr>\n",
       "  </thead>\n",
       "  <tbody>\n",
       "    <tr>\n",
       "      <th>0</th>\n",
       "      <td>2008-01-21</td>\n",
       "      <td>73</td>\n",
       "    </tr>\n",
       "    <tr>\n",
       "      <th>1</th>\n",
       "      <td>2008-05-15</td>\n",
       "      <td>72</td>\n",
       "    </tr>\n",
       "    <tr>\n",
       "      <th>2</th>\n",
       "      <td>2008-04-23</td>\n",
       "      <td>69</td>\n",
       "    </tr>\n",
       "    <tr>\n",
       "      <th>3</th>\n",
       "      <td>2008-01-29</td>\n",
       "      <td>68</td>\n",
       "    </tr>\n",
       "    <tr>\n",
       "      <th>4</th>\n",
       "      <td>2008-05-28</td>\n",
       "      <td>67</td>\n",
       "    </tr>\n",
       "    <tr>\n",
       "      <th>...</th>\n",
       "      <td>...</td>\n",
       "      <td>...</td>\n",
       "    </tr>\n",
       "    <tr>\n",
       "      <th>208</th>\n",
       "      <td>2008-07-10</td>\n",
       "      <td>6</td>\n",
       "    </tr>\n",
       "    <tr>\n",
       "      <th>209</th>\n",
       "      <td>2008-07-11</td>\n",
       "      <td>5</td>\n",
       "    </tr>\n",
       "    <tr>\n",
       "      <th>210</th>\n",
       "      <td>2008-07-19</td>\n",
       "      <td>5</td>\n",
       "    </tr>\n",
       "    <tr>\n",
       "      <th>211</th>\n",
       "      <td>2008-07-02</td>\n",
       "      <td>3</td>\n",
       "    </tr>\n",
       "    <tr>\n",
       "      <th>212</th>\n",
       "      <td>2008-07-01</td>\n",
       "      <td>3</td>\n",
       "    </tr>\n",
       "  </tbody>\n",
       "</table>\n",
       "<p>213 rows × 2 columns</p>\n",
       "</div>"
      ],
      "text/plain": [
       "          Date  Total_Flights\n",
       "0   2008-01-21             73\n",
       "1   2008-05-15             72\n",
       "2   2008-04-23             69\n",
       "3   2008-01-29             68\n",
       "4   2008-05-28             67\n",
       "..         ...            ...\n",
       "208 2008-07-10              6\n",
       "209 2008-07-11              5\n",
       "210 2008-07-19              5\n",
       "211 2008-07-02              3\n",
       "212 2008-07-01              3\n",
       "\n",
       "[213 rows x 2 columns]"
      ]
     },
     "execution_count": 29,
     "metadata": {},
     "output_type": "execute_result"
    }
   ],
   "source": [
    "# Total Flights by  Day of Year \n",
    "flights_by_Day_of_Week = df.Date.value_counts().reset_index()\n",
    "flights_by_Day_of_Week.columns = [\"Date\", \"Total_Flights\"]\n",
    "flights_by_Day_of_Week"
   ]
  },
  {
   "cell_type": "code",
   "execution_count": 33,
   "metadata": {
    "scrolled": true,
    "slideshow": {
     "slide_type": "slide"
    }
   },
   "outputs": [
    {
     "data": {
      "image/png": "[encoded data removed]",
      "text/plain": [
       "<Figure size 432x288 with 1 Axes>"
      ]
     },
     "metadata": {
      "needs_background": "light"
     },
     "output_type": "display_data"
    }
   ],
   "source": [
    "# polt \n",
    "ax=flights_by_Day_of_Week.plot(kind='line', x='Date', y='Total_Flights')\n",
    "plt.title(\"Total Flights by Day of Year\")\n",
    "plt.ylabel(\"Total Flights\")\n",
    "plt.xlabel(\"Day of Year\")\n",
    "plt.show();"
   ]
  },
  {
   "cell_type": "markdown",
   "metadata": {
    "slideshow": {
     "slide_type": "subslide"
    }
   },
   "source": [
    "Flight frequency fluctuates on a day by day basis. However, flights appear to be least frequent in the summer .\n"
   ]
  },
  {
   "cell_type": "code",
   "execution_count": 15,
   "metadata": {
    "slideshow": {
     "slide_type": "slide"
    }
   },
   "outputs": [
    {
     "data": {
      "text/plain": [
       "'97.69%'"
      ]
     },
     "execution_count": 15,
     "metadata": {},
     "output_type": "execute_result"
    }
   ],
   "source": [
    "# Percentage of Flights that are Cancelled \n",
    "df_cancelled = df['Cancelled'].value_counts().reset_index()\n",
    "cancelled_percent = df_cancelled.Cancelled[1] / (df_cancelled.Cancelled[0] + df_cancelled.Cancelled[1]) * 100\n",
    "not_cancelled_percent= 100-cancelled_percent\n",
    "cancelled_percent =str(round(cancelled_percent, 2)) + \"%\"\n",
    "not_cancelled_percent=str(round(not_cancelled_percent, 2)) + \"%\"\n",
    "not_cancelled_percent"
   ]
  },
  {
   "cell_type": "code",
   "execution_count": 16,
   "metadata": {
    "slideshow": {
     "slide_type": "slide"
    }
   },
   "outputs": [
    {
     "data": {
      "image/png": "[encoded data removed]",
      "text/plain": [
       "<Figure size 576x576 with 1 Axes>"
      ]
     },
     "metadata": {},
     "output_type": "display_data"
    }
   ],
   "source": [
    "# Plot\n",
    "df_cancelled.Cancelled.plot(kind= 'pie', labels = ['Not Cancelled (' + not_cancelled_percent + ')', 'Cancelled (' + cancelled_percent + ')'], figsize=(8,8))\n",
    "plt.title(\"Percentage of Flights that are Cancelled\")\n",
    "plt.ylabel(\"\");"
   ]
  },
  {
   "cell_type": "markdown",
   "metadata": {
    "slideshow": {
     "slide_type": "subslide"
    }
   },
   "source": [
    "2.31% of all flights are cancelled. That is almost two flights per one hundred."
   ]
  },
  {
   "cell_type": "code",
   "execution_count": 17,
   "metadata": {
    "slideshow": {
     "slide_type": "slide"
    }
   },
   "outputs": [
    {
     "data": {
      "text/plain": [
       "carrier    101\n",
       "weather     90\n",
       "NAS         40\n",
       "Name: CancellationCode, dtype: int64"
      ]
     },
     "execution_count": 17,
     "metadata": {},
     "output_type": "execute_result"
    }
   ],
   "source": [
    "# Causes of Flight Cancellations \n",
    "df['CancellationCode'].value_counts()"
   ]
  },
  {
   "cell_type": "code",
   "execution_count": 18,
   "metadata": {
    "slideshow": {
     "slide_type": "slide"
    }
   },
   "outputs": [
    {
     "data": {
      "image/png": "[encoded data removed]",
      "text/plain": [
       "<Figure size 432x288 with 1 Axes>"
      ]
     },
     "metadata": {
      "needs_background": "light"
     },
     "output_type": "display_data"
    }
   ],
   "source": [
    "# plot\n",
    "df['CancellationCode'].value_counts().plot(kind= 'bar')\n",
    "plt.title(\"Causes of Flight Cancellations\")\n",
    "plt.ylabel(\"Count\")\n",
    "plt.xlabel(\"Type of Cancellation\")\n",
    "plt.show();"
   ]
  },
  {
   "cell_type": "markdown",
   "metadata": {
    "slideshow": {
     "slide_type": "subslide"
    }
   },
   "source": [
    "The most common cause of flight cancellations is carrier."
   ]
  },
  {
   "cell_type": "code",
   "execution_count": 19,
   "metadata": {
    "slideshow": {
     "slide_type": "slide"
    }
   },
   "outputs": [],
   "source": [
    "# Time periods of Carrier Delays\n",
    "bin_edges = [1, 9, 19, 41, 2436]\n",
    "bin_names = ['1-8', '9-18', '19-39', '40-1951']\n",
    "periods = pd.cut(df['CarrierDelay'], bin_edges, labels=bin_names)"
   ]
  },
  {
   "cell_type": "code",
   "execution_count": 20,
   "metadata": {
    "scrolled": true,
    "slideshow": {
     "slide_type": "slide"
    }
   },
   "outputs": [
    {
     "data": {
      "image/png": "[encoded data removed]",
      "text/plain": [
       "<Figure size 432x288 with 1 Axes>"
      ]
     },
     "metadata": {
      "needs_background": "light"
     },
     "output_type": "display_data"
    }
   ],
   "source": [
    "# Polt\n",
    "periods.value_counts(sort = False).plot(kind= 'bar')\n",
    "plt.title(\"Length of Carrier Delay\")\n",
    "plt.ylabel(\"Count\")\n",
    "plt.xlabel(\"Length of Delay (min)\")\n",
    "plt.show();"
   ]
  },
  {
   "cell_type": "markdown",
   "metadata": {
    "slideshow": {
     "slide_type": "subslide"
    }
   },
   "source": [
    "Carrier delays are most commonly 1-8 minutes long"
   ]
  },
  {
   "cell_type": "markdown",
   "metadata": {
    "slideshow": {
     "slide_type": "slide"
    }
   },
   "source": [
    "### Of the features you investigated, were there any unusual distributions? Did you perform any operations on the data to tidy, adjust, or change the form of the data? If so, why did you do this?\n",
    "\n",
    " >#### Total Flights by Day of Year\n",
    " Due to working with such a large data set, I initially used a sample of the data set (10,000 entries) to visualize my data. Doing this, I was unable to see an obvious pattern in the visualization of total flights by day of year. However, when I used the full data set, I was able to group the data into four sections of the year where the number of flights were similar. Using the full data set paints a clearer picture as to how flights are distributed throughout the year.\n"
   ]
  },
  {
   "cell_type": "markdown",
   "metadata": {
    "slideshow": {
     "slide_type": "slide"
    }
   },
   "source": [
    "# Bivariate Exploration"
   ]
  },
  {
   "cell_type": "code",
   "execution_count": 48,
   "metadata": {
    "slideshow": {
     "slide_type": "slide"
    }
   },
   "outputs": [
    {
     "data": {
      "text/html": [
       "<div>\n",
       "<style scoped>\n",
       "    .dataframe tbody tr th:only-of-type {\n",
       "        vertical-align: middle;\n",
       "    }\n",
       "\n",
       "    .dataframe tbody tr th {\n",
       "        vertical-align: top;\n",
       "    }\n",
       "\n",
       "    .dataframe thead th {\n",
       "        text-align: right;\n",
       "    }\n",
       "</style>\n",
       "<table border=\"1\" class=\"dataframe\">\n",
       "  <thead>\n",
       "    <tr style=\"text-align: right;\">\n",
       "      <th></th>\n",
       "      <th>Month</th>\n",
       "      <th>Cancelled</th>\n",
       "    </tr>\n",
       "  </thead>\n",
       "  <tbody>\n",
       "    <tr>\n",
       "      <th>0</th>\n",
       "      <td>Jan</td>\n",
       "      <td>0.027864</td>\n",
       "    </tr>\n",
       "    <tr>\n",
       "      <th>1</th>\n",
       "      <td>Feb</td>\n",
       "      <td>0.047428</td>\n",
       "    </tr>\n",
       "    <tr>\n",
       "      <th>2</th>\n",
       "      <td>Mar</td>\n",
       "      <td>0.026268</td>\n",
       "    </tr>\n",
       "    <tr>\n",
       "      <th>3</th>\n",
       "      <td>Apr</td>\n",
       "      <td>0.015309</td>\n",
       "    </tr>\n",
       "    <tr>\n",
       "      <th>4</th>\n",
       "      <td>May</td>\n",
       "      <td>0.010125</td>\n",
       "    </tr>\n",
       "    <tr>\n",
       "      <th>5</th>\n",
       "      <td>Jun</td>\n",
       "      <td>0.017435</td>\n",
       "    </tr>\n",
       "    <tr>\n",
       "      <th>6</th>\n",
       "      <td>Jul</td>\n",
       "      <td>0.006006</td>\n",
       "    </tr>\n",
       "  </tbody>\n",
       "</table>\n",
       "</div>"
      ],
      "text/plain": [
       "  Month  Cancelled\n",
       "0   Jan   0.027864\n",
       "1   Feb   0.047428\n",
       "2   Mar   0.026268\n",
       "3   Apr   0.015309\n",
       "4   May   0.010125\n",
       "5   Jun   0.017435\n",
       "6   Jul   0.006006"
      ]
     },
     "execution_count": 48,
     "metadata": {},
     "output_type": "execute_result"
    }
   ],
   "source": [
    "# Average cancellation for every Month\n",
    "df_cancelled_month = df.groupby(['Month'])['Cancelled'].mean().reset_index().sort_values(['Cancelled'], ascending = False)\n",
    "df_cancelled_month=Sort_Dataframeby_Month(df=df_cancelled_month,monthcolumnname='Month')\n",
    "\n",
    "df_cancelled_month"
   ]
  },
  {
   "cell_type": "code",
   "execution_count": 49,
   "metadata": {
    "slideshow": {
     "slide_type": "slide"
    }
   },
   "outputs": [
    {
     "data": {
      "image/png": "[encoded data removed]",
      "text/plain": [
       "<Figure size 432x288 with 1 Axes>"
      ]
     },
     "metadata": {
      "needs_background": "light"
     },
     "output_type": "display_data"
    }
   ],
   "source": [
    "# plot \n",
    "df_cancelled_month.plot(kind='bar', x='Month', y='Cancelled')\n",
    "plt.title(\"Average Flight Cancellations by Month\")\n",
    "plt.ylabel(\"Cancellations\")\n",
    "plt.xlabel(\"Month\")\n",
    "plt.show();"
   ]
  },
  {
   "cell_type": "markdown",
   "metadata": {
    "slideshow": {
     "slide_type": "subslide"
    }
   },
   "source": [
    "Flights are most commonly cancelled in Feb. Flights are least commonly cancelled in Jul.\n"
   ]
  },
  {
   "cell_type": "code",
   "execution_count": 50,
   "metadata": {
    "slideshow": {
     "slide_type": "slide"
    }
   },
   "outputs": [
    {
     "data": {
      "text/html": [
       "<div>\n",
       "<style scoped>\n",
       "    .dataframe tbody tr th:only-of-type {\n",
       "        vertical-align: middle;\n",
       "    }\n",
       "\n",
       "    .dataframe tbody tr th {\n",
       "        vertical-align: top;\n",
       "    }\n",
       "\n",
       "    .dataframe thead th {\n",
       "        text-align: right;\n",
       "    }\n",
       "</style>\n",
       "<table border=\"1\" class=\"dataframe\">\n",
       "  <thead>\n",
       "    <tr style=\"text-align: right;\">\n",
       "      <th></th>\n",
       "      <th>Month</th>\n",
       "      <th>WeatherDelay</th>\n",
       "    </tr>\n",
       "  </thead>\n",
       "  <tbody>\n",
       "    <tr>\n",
       "      <th>0</th>\n",
       "      <td>Jan</td>\n",
       "      <td>3.270510</td>\n",
       "    </tr>\n",
       "    <tr>\n",
       "      <th>1</th>\n",
       "      <td>Feb</td>\n",
       "      <td>2.128866</td>\n",
       "    </tr>\n",
       "    <tr>\n",
       "      <th>2</th>\n",
       "      <td>Mar</td>\n",
       "      <td>3.594533</td>\n",
       "    </tr>\n",
       "    <tr>\n",
       "      <th>3</th>\n",
       "      <td>Apr</td>\n",
       "      <td>1.733333</td>\n",
       "    </tr>\n",
       "    <tr>\n",
       "      <th>4</th>\n",
       "      <td>May</td>\n",
       "      <td>2.011561</td>\n",
       "    </tr>\n",
       "    <tr>\n",
       "      <th>5</th>\n",
       "      <td>Jun</td>\n",
       "      <td>3.272093</td>\n",
       "    </tr>\n",
       "    <tr>\n",
       "      <th>6</th>\n",
       "      <td>Jul</td>\n",
       "      <td>1.353846</td>\n",
       "    </tr>\n",
       "  </tbody>\n",
       "</table>\n",
       "</div>"
      ],
      "text/plain": [
       "  Month  WeatherDelay\n",
       "0   Jan      3.270510\n",
       "1   Feb      2.128866\n",
       "2   Mar      3.594533\n",
       "3   Apr      1.733333\n",
       "4   May      2.011561\n",
       "5   Jun      3.272093\n",
       "6   Jul      1.353846"
      ]
     },
     "execution_count": 50,
     "metadata": {},
     "output_type": "execute_result"
    }
   ],
   "source": [
    "# Average weather delay by month in minutes\n",
    "df_weather_delay_month = df.groupby(['Month'])['WeatherDelay'].mean().reset_index().sort_values(['WeatherDelay'], ascending = False)\n",
    "df_weather_delay_month=Sort_Dataframeby_Month(df=df_weather_delay_month,monthcolumnname='Month')\n",
    "df_weather_delay_month"
   ]
  },
  {
   "cell_type": "code",
   "execution_count": 51,
   "metadata": {
    "slideshow": {
     "slide_type": "slide"
    }
   },
   "outputs": [
    {
     "data": {
      "image/png": "[encoded data removed]",
      "text/plain": [
       "<Figure size 432x288 with 1 Axes>"
      ]
     },
     "metadata": {
      "needs_background": "light"
     },
     "output_type": "display_data"
    }
   ],
   "source": [
    "# plot \n",
    "df_weather_delay_month.plot(kind='bar', x='Month', y='WeatherDelay')\n",
    "plt.title(\"Average Length of Weather Delays by Month\")\n",
    "plt.ylabel(\"Weather Delays (min)\")\n",
    "plt.xlabel(\"Month\")\n",
    "plt.show();"
   ]
  },
  {
   "cell_type": "markdown",
   "metadata": {
    "slideshow": {
     "slide_type": "subslide"
    }
   },
   "source": [
    "Flights experience weather delays most commonly in Mar. Flights are least commonly delayed by weather in Jul."
   ]
  },
  {
   "cell_type": "code",
   "execution_count": 53,
   "metadata": {
    "slideshow": {
     "slide_type": "slide"
    }
   },
   "outputs": [
    {
     "data": {
      "text/html": [
       "<div>\n",
       "<style scoped>\n",
       "    .dataframe tbody tr th:only-of-type {\n",
       "        vertical-align: middle;\n",
       "    }\n",
       "\n",
       "    .dataframe tbody tr th {\n",
       "        vertical-align: top;\n",
       "    }\n",
       "\n",
       "    .dataframe thead th {\n",
       "        text-align: right;\n",
       "    }\n",
       "</style>\n",
       "<table border=\"1\" class=\"dataframe\">\n",
       "  <thead>\n",
       "    <tr style=\"text-align: right;\">\n",
       "      <th></th>\n",
       "      <th>DayOfWeek</th>\n",
       "      <th>Cancelled</th>\n",
       "    </tr>\n",
       "  </thead>\n",
       "  <tbody>\n",
       "    <tr>\n",
       "      <th>0</th>\n",
       "      <td>Monday</td>\n",
       "      <td>0.019555</td>\n",
       "    </tr>\n",
       "    <tr>\n",
       "      <th>1</th>\n",
       "      <td>Tuesday</td>\n",
       "      <td>0.024573</td>\n",
       "    </tr>\n",
       "    <tr>\n",
       "      <th>2</th>\n",
       "      <td>Wednesday</td>\n",
       "      <td>0.029730</td>\n",
       "    </tr>\n",
       "    <tr>\n",
       "      <th>3</th>\n",
       "      <td>Thursday</td>\n",
       "      <td>0.020764</td>\n",
       "    </tr>\n",
       "    <tr>\n",
       "      <th>4</th>\n",
       "      <td>Friday</td>\n",
       "      <td>0.027083</td>\n",
       "    </tr>\n",
       "    <tr>\n",
       "      <th>5</th>\n",
       "      <td>Saturday</td>\n",
       "      <td>0.019465</td>\n",
       "    </tr>\n",
       "    <tr>\n",
       "      <th>6</th>\n",
       "      <td>Sunday</td>\n",
       "      <td>0.019915</td>\n",
       "    </tr>\n",
       "  </tbody>\n",
       "</table>\n",
       "</div>"
      ],
      "text/plain": [
       "   DayOfWeek  Cancelled\n",
       "0     Monday   0.019555\n",
       "1    Tuesday   0.024573\n",
       "2  Wednesday   0.029730\n",
       "3   Thursday   0.020764\n",
       "4     Friday   0.027083\n",
       "5   Saturday   0.019465\n",
       "6     Sunday   0.019915"
      ]
     },
     "execution_count": 53,
     "metadata": {},
     "output_type": "execute_result"
    }
   ],
   "source": [
    "# average cancellations by day of week in minutes\n",
    "df_cancelled_weekday = df.groupby(['DayOfWeek'])['Cancelled'].mean().reset_index().sort_values(['Cancelled'], ascending = False)\n",
    "df_cancelled_weekday=Sort_Dataframeby_Weekday(df=df_cancelled_weekday,Weekdaycolumnname='DayOfWeek')\n",
    "df_cancelled_weekday"
   ]
  },
  {
   "cell_type": "code",
   "execution_count": 54,
   "metadata": {
    "slideshow": {
     "slide_type": "slide"
    }
   },
   "outputs": [
    {
     "data": {
      "image/png": "[encoded data removed]",
      "text/plain": [
       "<Figure size 432x288 with 1 Axes>"
      ]
     },
     "metadata": {
      "needs_background": "light"
     },
     "output_type": "display_data"
    }
   ],
   "source": [
    "# plot \n",
    "df_cancelled_weekday.plot(kind='bar', x='DayOfWeek', y='Cancelled')\n",
    "plt.title(\"Average Flight Cancellations by Day of Week\")\n",
    "plt.ylabel(\"Cancellations\")\n",
    "plt.xlabel(\"Day Of Week\")\n",
    "plt.show();"
   ]
  },
  {
   "cell_type": "markdown",
   "metadata": {
    "slideshow": {
     "slide_type": "subslide"
    }
   },
   "source": [
    "Flights are most commonly cancelled on Wednesday. Flights are least commonly cancelled on Saturdays."
   ]
  },
  {
   "cell_type": "code",
   "execution_count": 55,
   "metadata": {
    "slideshow": {
     "slide_type": "slide"
    }
   },
   "outputs": [
    {
     "data": {
      "text/html": [
       "<div>\n",
       "<style scoped>\n",
       "    .dataframe tbody tr th:only-of-type {\n",
       "        vertical-align: middle;\n",
       "    }\n",
       "\n",
       "    .dataframe tbody tr th {\n",
       "        vertical-align: top;\n",
       "    }\n",
       "\n",
       "    .dataframe thead th {\n",
       "        text-align: right;\n",
       "    }\n",
       "</style>\n",
       "<table border=\"1\" class=\"dataframe\">\n",
       "  <thead>\n",
       "    <tr style=\"text-align: right;\">\n",
       "      <th></th>\n",
       "      <th>DayOfWeek</th>\n",
       "      <th>NASDelay</th>\n",
       "    </tr>\n",
       "  </thead>\n",
       "  <tbody>\n",
       "    <tr>\n",
       "      <th>0</th>\n",
       "      <td>Monday</td>\n",
       "      <td>15.348774</td>\n",
       "    </tr>\n",
       "    <tr>\n",
       "      <th>1</th>\n",
       "      <td>Tuesday</td>\n",
       "      <td>22.014124</td>\n",
       "    </tr>\n",
       "    <tr>\n",
       "      <th>2</th>\n",
       "      <td>Wednesday</td>\n",
       "      <td>12.006410</td>\n",
       "    </tr>\n",
       "    <tr>\n",
       "      <th>3</th>\n",
       "      <td>Thursday</td>\n",
       "      <td>18.134454</td>\n",
       "    </tr>\n",
       "    <tr>\n",
       "      <th>4</th>\n",
       "      <td>Friday</td>\n",
       "      <td>17.370647</td>\n",
       "    </tr>\n",
       "    <tr>\n",
       "      <th>5</th>\n",
       "      <td>Saturday</td>\n",
       "      <td>13.664474</td>\n",
       "    </tr>\n",
       "    <tr>\n",
       "      <th>6</th>\n",
       "      <td>Sunday</td>\n",
       "      <td>15.575071</td>\n",
       "    </tr>\n",
       "  </tbody>\n",
       "</table>\n",
       "</div>"
      ],
      "text/plain": [
       "   DayOfWeek   NASDelay\n",
       "0     Monday  15.348774\n",
       "1    Tuesday  22.014124\n",
       "2  Wednesday  12.006410\n",
       "3   Thursday  18.134454\n",
       "4     Friday  17.370647\n",
       "5   Saturday  13.664474\n",
       "6     Sunday  15.575071"
      ]
     },
     "execution_count": 55,
     "metadata": {},
     "output_type": "execute_result"
    }
   ],
   "source": [
    "# Average NAS Delay by Day of Week\n",
    "df_NAS_Delay_weekday = df.groupby(['DayOfWeek'])['NASDelay'].mean().reset_index().sort_values(['NASDelay'], ascending = False)\n",
    "df_NAS_Delay_weekday=Sort_Dataframeby_Weekday(df=df_NAS_Delay_weekday,Weekdaycolumnname='DayOfWeek')\n",
    "df_NAS_Delay_weekday"
   ]
  },
  {
   "cell_type": "code",
   "execution_count": 57,
   "metadata": {
    "slideshow": {
     "slide_type": "slide"
    }
   },
   "outputs": [
    {
     "data": {
      "image/png": "[encoded data removed]",
      "text/plain": [
       "<Figure size 432x288 with 1 Axes>"
      ]
     },
     "metadata": {
      "needs_background": "light"
     },
     "output_type": "display_data"
    }
   ],
   "source": [
    "# plot \n",
    "df_NAS_Delay_weekday.plot(kind='bar', x='DayOfWeek', y='NASDelay')\n",
    "plt.title(\"Average Length of NAS Delays by Day of Week\")\n",
    "plt.ylabel(\"NAS Delays (in min)\")\n",
    "plt.xlabel(\"Day Of Week\")\n",
    "plt.show();"
   ]
  },
  {
   "cell_type": "markdown",
   "metadata": {
    "slideshow": {
     "slide_type": "subslide"
    }
   },
   "source": [
    "Flights experience NAS delays most commonly on Tuesday. Flights are least commonly delayed by carrier on Wednesday"
   ]
  },
  {
   "cell_type": "code",
   "execution_count": 58,
   "metadata": {
    "slideshow": {
     "slide_type": "slide"
    }
   },
   "outputs": [
    {
     "data": {
      "text/html": [
       "<div>\n",
       "<style scoped>\n",
       "    .dataframe tbody tr th:only-of-type {\n",
       "        vertical-align: middle;\n",
       "    }\n",
       "\n",
       "    .dataframe tbody tr th {\n",
       "        vertical-align: top;\n",
       "    }\n",
       "\n",
       "    .dataframe thead th {\n",
       "        text-align: right;\n",
       "    }\n",
       "</style>\n",
       "<table border=\"1\" class=\"dataframe\">\n",
       "  <thead>\n",
       "    <tr style=\"text-align: right;\">\n",
       "      <th></th>\n",
       "      <th>DayOfWeek</th>\n",
       "      <th>LateAircraftDelay</th>\n",
       "    </tr>\n",
       "  </thead>\n",
       "  <tbody>\n",
       "    <tr>\n",
       "      <th>0</th>\n",
       "      <td>Monday</td>\n",
       "      <td>20.098093</td>\n",
       "    </tr>\n",
       "    <tr>\n",
       "      <th>1</th>\n",
       "      <td>Tuesday</td>\n",
       "      <td>21.152542</td>\n",
       "    </tr>\n",
       "    <tr>\n",
       "      <th>2</th>\n",
       "      <td>Wednesday</td>\n",
       "      <td>16.612179</td>\n",
       "    </tr>\n",
       "    <tr>\n",
       "      <th>3</th>\n",
       "      <td>Thursday</td>\n",
       "      <td>17.501401</td>\n",
       "    </tr>\n",
       "    <tr>\n",
       "      <th>4</th>\n",
       "      <td>Friday</td>\n",
       "      <td>21.291045</td>\n",
       "    </tr>\n",
       "    <tr>\n",
       "      <th>5</th>\n",
       "      <td>Saturday</td>\n",
       "      <td>19.217105</td>\n",
       "    </tr>\n",
       "    <tr>\n",
       "      <th>6</th>\n",
       "      <td>Sunday</td>\n",
       "      <td>22.481586</td>\n",
       "    </tr>\n",
       "  </tbody>\n",
       "</table>\n",
       "</div>"
      ],
      "text/plain": [
       "   DayOfWeek  LateAircraftDelay\n",
       "0     Monday          20.098093\n",
       "1    Tuesday          21.152542\n",
       "2  Wednesday          16.612179\n",
       "3   Thursday          17.501401\n",
       "4     Friday          21.291045\n",
       "5   Saturday          19.217105\n",
       "6     Sunday          22.481586"
      ]
     },
     "execution_count": 58,
     "metadata": {},
     "output_type": "execute_result"
    }
   ],
   "source": [
    "# average late aircraft carrier delays by day of week\n",
    "df_ld_weekday = df.groupby(['DayOfWeek'])['LateAircraftDelay'].mean().reset_index().sort_values(['LateAircraftDelay'], ascending = False)\n",
    "df_ld_weekday=Sort_Dataframeby_Weekday(df=df_ld_weekday,Weekdaycolumnname='DayOfWeek')\n",
    "df_ld_weekday"
   ]
  },
  {
   "cell_type": "code",
   "execution_count": 59,
   "metadata": {
    "slideshow": {
     "slide_type": "slide"
    }
   },
   "outputs": [
    {
     "data": {
      "image/png": "[encoded data removed]",
      "text/plain": [
       "<Figure size 432x288 with 1 Axes>"
      ]
     },
     "metadata": {
      "needs_background": "light"
     },
     "output_type": "display_data"
    }
   ],
   "source": [
    "# plot\n",
    "df_ld_weekday.plot(kind='bar', x='DayOfWeek', y='LateAircraftDelay')\n",
    "plt.title(\"Average Length of Late Aircraft Delays by Day of Week\")\n",
    "plt.ylabel(\"Late Aircraft (in minutes)\")\n",
    "plt.xlabel(\"Day of Week\")\n",
    "plt.show();"
   ]
  },
  {
   "cell_type": "markdown",
   "metadata": {
    "slideshow": {
     "slide_type": "subslide"
    }
   },
   "source": [
    "Flights experience late aircraft delays most commonly on Sunday. Flights are least commonly delayed by late aircraft carriers on Wednesday."
   ]
  },
  {
   "cell_type": "markdown",
   "metadata": {
    "slideshow": {
     "slide_type": "slide"
    }
   },
   "source": [
    "# Multivariate Exploration"
   ]
  },
  {
   "cell_type": "code",
   "execution_count": 60,
   "metadata": {
    "slideshow": {
     "slide_type": "slide"
    }
   },
   "outputs": [
    {
     "data": {
      "text/html": [
       "<div>\n",
       "<style scoped>\n",
       "    .dataframe tbody tr th:only-of-type {\n",
       "        vertical-align: middle;\n",
       "    }\n",
       "\n",
       "    .dataframe tbody tr th {\n",
       "        vertical-align: top;\n",
       "    }\n",
       "\n",
       "    .dataframe thead th {\n",
       "        text-align: right;\n",
       "    }\n",
       "</style>\n",
       "<table border=\"1\" class=\"dataframe\">\n",
       "  <thead>\n",
       "    <tr style=\"text-align: right;\">\n",
       "      <th></th>\n",
       "      <th>Month</th>\n",
       "      <th>CancellationCode</th>\n",
       "      <th>Cancelled</th>\n",
       "    </tr>\n",
       "  </thead>\n",
       "  <tbody>\n",
       "    <tr>\n",
       "      <th>0</th>\n",
       "      <td>Jan</td>\n",
       "      <td>NAS</td>\n",
       "      <td>16</td>\n",
       "    </tr>\n",
       "    <tr>\n",
       "      <th>1</th>\n",
       "      <td>Jan</td>\n",
       "      <td>carrier</td>\n",
       "      <td>12</td>\n",
       "    </tr>\n",
       "    <tr>\n",
       "      <th>2</th>\n",
       "      <td>Jan</td>\n",
       "      <td>weather</td>\n",
       "      <td>17</td>\n",
       "    </tr>\n",
       "    <tr>\n",
       "      <th>3</th>\n",
       "      <td>Feb</td>\n",
       "      <td>NAS</td>\n",
       "      <td>13</td>\n",
       "    </tr>\n",
       "    <tr>\n",
       "      <th>4</th>\n",
       "      <td>Feb</td>\n",
       "      <td>carrier</td>\n",
       "      <td>26</td>\n",
       "    </tr>\n",
       "    <tr>\n",
       "      <th>5</th>\n",
       "      <td>Feb</td>\n",
       "      <td>weather</td>\n",
       "      <td>32</td>\n",
       "    </tr>\n",
       "    <tr>\n",
       "      <th>6</th>\n",
       "      <td>Mar</td>\n",
       "      <td>NAS</td>\n",
       "      <td>2</td>\n",
       "    </tr>\n",
       "    <tr>\n",
       "      <th>7</th>\n",
       "      <td>Mar</td>\n",
       "      <td>carrier</td>\n",
       "      <td>19</td>\n",
       "    </tr>\n",
       "    <tr>\n",
       "      <th>8</th>\n",
       "      <td>Mar</td>\n",
       "      <td>weather</td>\n",
       "      <td>22</td>\n",
       "    </tr>\n",
       "    <tr>\n",
       "      <th>9</th>\n",
       "      <td>Apr</td>\n",
       "      <td>NAS</td>\n",
       "      <td>3</td>\n",
       "    </tr>\n",
       "    <tr>\n",
       "      <th>10</th>\n",
       "      <td>Apr</td>\n",
       "      <td>carrier</td>\n",
       "      <td>18</td>\n",
       "    </tr>\n",
       "    <tr>\n",
       "      <th>11</th>\n",
       "      <td>Apr</td>\n",
       "      <td>weather</td>\n",
       "      <td>4</td>\n",
       "    </tr>\n",
       "    <tr>\n",
       "      <th>12</th>\n",
       "      <td>May</td>\n",
       "      <td>NAS</td>\n",
       "      <td>3</td>\n",
       "    </tr>\n",
       "    <tr>\n",
       "      <th>13</th>\n",
       "      <td>May</td>\n",
       "      <td>carrier</td>\n",
       "      <td>10</td>\n",
       "    </tr>\n",
       "    <tr>\n",
       "      <th>14</th>\n",
       "      <td>May</td>\n",
       "      <td>weather</td>\n",
       "      <td>4</td>\n",
       "    </tr>\n",
       "    <tr>\n",
       "      <th>15</th>\n",
       "      <td>Jun</td>\n",
       "      <td>NAS</td>\n",
       "      <td>3</td>\n",
       "    </tr>\n",
       "    <tr>\n",
       "      <th>16</th>\n",
       "      <td>Jun</td>\n",
       "      <td>carrier</td>\n",
       "      <td>14</td>\n",
       "    </tr>\n",
       "    <tr>\n",
       "      <th>17</th>\n",
       "      <td>Jun</td>\n",
       "      <td>weather</td>\n",
       "      <td>11</td>\n",
       "    </tr>\n",
       "    <tr>\n",
       "      <th>18</th>\n",
       "      <td>Jul</td>\n",
       "      <td>carrier</td>\n",
       "      <td>2</td>\n",
       "    </tr>\n",
       "  </tbody>\n",
       "</table>\n",
       "</div>"
      ],
      "text/plain": [
       "   Month CancellationCode  Cancelled\n",
       "0    Jan              NAS         16\n",
       "1    Jan          carrier         12\n",
       "2    Jan          weather         17\n",
       "3    Feb              NAS         13\n",
       "4    Feb          carrier         26\n",
       "5    Feb          weather         32\n",
       "6    Mar              NAS          2\n",
       "7    Mar          carrier         19\n",
       "8    Mar          weather         22\n",
       "9    Apr              NAS          3\n",
       "10   Apr          carrier         18\n",
       "11   Apr          weather          4\n",
       "12   May              NAS          3\n",
       "13   May          carrier         10\n",
       "14   May          weather          4\n",
       "15   Jun              NAS          3\n",
       "16   Jun          carrier         14\n",
       "17   Jun          weather         11\n",
       "18   Jul          carrier          2"
      ]
     },
     "execution_count": 60,
     "metadata": {},
     "output_type": "execute_result"
    }
   ],
   "source": [
    "# average cancellations by month and cancellations code\n",
    "df_cancelled_mv1 = df.groupby(['Month', 'CancellationCode'])['Cancelled'].count().reset_index()\n",
    "df_cancelled_mv1=Sort_Dataframeby_Month(df=df_cancelled_mv1,monthcolumnname='Month')\n",
    "df_cancelled_mv1"
   ]
  },
  {
   "cell_type": "code",
   "execution_count": 61,
   "metadata": {
    "slideshow": {
     "slide_type": "slide"
    }
   },
   "outputs": [
    {
     "data": {
      "image/png": "[encoded data removed]",
      "text/plain": [
       "<Figure size 432x288 with 1 Axes>"
      ]
     },
     "metadata": {
      "needs_background": "light"
     },
     "output_type": "display_data"
    }
   ],
   "source": [
    "# plot\n",
    "ax = sns.barplot(data = df_cancelled_mv1, x = 'Month', y = 'Cancelled', hue = 'CancellationCode')\n",
    "ax.legend(loc='upper center', bbox_to_anchor=(1.2, 0.8), shadow=True, ncol=1, title = 'Types of Cancellations')\n",
    "ax.set_title('Types of Flight Cancellations by Month');"
   ]
  },
  {
   "cell_type": "markdown",
   "metadata": {
    "slideshow": {
     "slide_type": "subslide"
    }
   },
   "source": [
    "Carrier is the most common monthly cause for flight cancellations, followed by weather. NAS cancellations are the least common cause for cancellations for all months.\n",
    "\n"
   ]
  },
  {
   "cell_type": "code",
   "execution_count": 63,
   "metadata": {
    "slideshow": {
     "slide_type": "slide"
    }
   },
   "outputs": [],
   "source": [
    "#Length of Delays by Month\n",
    "df_delay_carrier = df.groupby(['Month'])['CarrierDelay'].mean().reset_index()\n",
    "df_delay_weather = df.groupby(['Month'])['WeatherDelay'].mean().reset_index()\n",
    "df_delay_NAS = df.groupby(['Month'])['NASDelay'].mean().reset_index()\n",
    "df_delay_LateAircraft = df.groupby(['Month'])['LateAircraftDelay'].mean().reset_index()\n"
   ]
  },
  {
   "cell_type": "code",
   "execution_count": 64,
   "metadata": {
    "slideshow": {
     "slide_type": "slide"
    }
   },
   "outputs": [
    {
     "data": {
      "text/html": [
       "<div>\n",
       "<style scoped>\n",
       "    .dataframe tbody tr th:only-of-type {\n",
       "        vertical-align: middle;\n",
       "    }\n",
       "\n",
       "    .dataframe tbody tr th {\n",
       "        vertical-align: top;\n",
       "    }\n",
       "\n",
       "    .dataframe thead th {\n",
       "        text-align: right;\n",
       "    }\n",
       "</style>\n",
       "<table border=\"1\" class=\"dataframe\">\n",
       "  <thead>\n",
       "    <tr style=\"text-align: right;\">\n",
       "      <th></th>\n",
       "      <th>Month</th>\n",
       "      <th>CarrierDelay</th>\n",
       "      <th>WeatherDelay</th>\n",
       "      <th>NASDelay</th>\n",
       "      <th>LateAircraftDelay</th>\n",
       "    </tr>\n",
       "  </thead>\n",
       "  <tbody>\n",
       "    <tr>\n",
       "      <th>0</th>\n",
       "      <td>Jan</td>\n",
       "      <td>13.929047</td>\n",
       "      <td>3.270510</td>\n",
       "      <td>19.319290</td>\n",
       "      <td>18.773836</td>\n",
       "    </tr>\n",
       "    <tr>\n",
       "      <th>1</th>\n",
       "      <td>Feb</td>\n",
       "      <td>18.597938</td>\n",
       "      <td>2.128866</td>\n",
       "      <td>14.270619</td>\n",
       "      <td>21.615979</td>\n",
       "    </tr>\n",
       "    <tr>\n",
       "      <th>2</th>\n",
       "      <td>Mar</td>\n",
       "      <td>16.756264</td>\n",
       "      <td>3.594533</td>\n",
       "      <td>15.277904</td>\n",
       "      <td>19.954442</td>\n",
       "    </tr>\n",
       "    <tr>\n",
       "      <th>3</th>\n",
       "      <td>Apr</td>\n",
       "      <td>17.866667</td>\n",
       "      <td>1.733333</td>\n",
       "      <td>15.757576</td>\n",
       "      <td>18.384848</td>\n",
       "    </tr>\n",
       "    <tr>\n",
       "      <th>4</th>\n",
       "      <td>May</td>\n",
       "      <td>14.141618</td>\n",
       "      <td>2.011561</td>\n",
       "      <td>16.566474</td>\n",
       "      <td>16.893064</td>\n",
       "    </tr>\n",
       "    <tr>\n",
       "      <th>5</th>\n",
       "      <td>Jun</td>\n",
       "      <td>15.355814</td>\n",
       "      <td>3.272093</td>\n",
       "      <td>17.974419</td>\n",
       "      <td>21.751163</td>\n",
       "    </tr>\n",
       "    <tr>\n",
       "      <th>6</th>\n",
       "      <td>Jul</td>\n",
       "      <td>14.692308</td>\n",
       "      <td>1.353846</td>\n",
       "      <td>10.200000</td>\n",
       "      <td>26.969231</td>\n",
       "    </tr>\n",
       "  </tbody>\n",
       "</table>\n",
       "</div>"
      ],
      "text/plain": [
       "  Month  CarrierDelay  WeatherDelay   NASDelay  LateAircraftDelay\n",
       "0   Jan     13.929047      3.270510  19.319290          18.773836\n",
       "1   Feb     18.597938      2.128866  14.270619          21.615979\n",
       "2   Mar     16.756264      3.594533  15.277904          19.954442\n",
       "3   Apr     17.866667      1.733333  15.757576          18.384848\n",
       "4   May     14.141618      2.011561  16.566474          16.893064\n",
       "5   Jun     15.355814      3.272093  17.974419          21.751163\n",
       "6   Jul     14.692308      1.353846  10.200000          26.969231"
      ]
     },
     "execution_count": 64,
     "metadata": {},
     "output_type": "execute_result"
    }
   ],
   "source": [
    "# Jons data  \n",
    "df_delay = pd.merge(df_delay_carrier, df_delay_weather, on='Month', how='outer')\n",
    "df_delay = pd.merge(df_delay, df_delay_NAS, on='Month', how='outer')\n",
    "df_delay = pd.merge(df_delay, df_delay_LateAircraft, on='Month', how='outer')\n",
    "df_delay =Sort_Dataframeby_Month(df=df_delay,monthcolumnname='Month')\n",
    "df_delay "
   ]
  },
  {
   "cell_type": "code",
   "execution_count": 65,
   "metadata": {
    "slideshow": {
     "slide_type": "slide"
    }
   },
   "outputs": [
    {
     "data": {
      "image/png": "[encoded data removed]",
      "text/plain": [
       "<Figure size 432x288 with 1 Axes>"
      ]
     },
     "metadata": {
      "needs_background": "light"
     },
     "output_type": "display_data"
    }
   ],
   "source": [
    "# plot \n",
    "ax = df_delay.plot(x=\"Month\", y=[\"CarrierDelay\", \"WeatherDelay\", \"NASDelay\", \"LateAircraftDelay\"], kind=\"line\", title='Average Flight Delay Length by Month')\n",
    "#plt.xticks(range(0,12),df_delay[\"Month\"])\n",
    "leg = plt.legend().get_texts()\n",
    "leg[0].set_text('Carrier Delay')\n",
    "leg[1].set_text('Weather Delay')\n",
    "leg[2].set_text('NAS Delay')\n",
    "leg[3].set_text('Late Aircraft Delay')\n",
    "ax.set_ylabel('Average Delay (min)');"
   ]
  },
  {
   "cell_type": "markdown",
   "metadata": {
    "slideshow": {
     "slide_type": "subslide"
    }
   },
   "source": [
    "NAS and late Aircraft delays have the longest average duration of delay of total monthly flights amd Weather has the shortest duration of delay of total monthly flights."
   ]
  },
  {
   "cell_type": "code",
   "execution_count": 67,
   "metadata": {
    "slideshow": {
     "slide_type": "slide"
    }
   },
   "outputs": [
    {
     "data": {
      "text/html": [
       "<div>\n",
       "<style scoped>\n",
       "    .dataframe tbody tr th:only-of-type {\n",
       "        vertical-align: middle;\n",
       "    }\n",
       "\n",
       "    .dataframe tbody tr th {\n",
       "        vertical-align: top;\n",
       "    }\n",
       "\n",
       "    .dataframe thead th {\n",
       "        text-align: right;\n",
       "    }\n",
       "</style>\n",
       "<table border=\"1\" class=\"dataframe\">\n",
       "  <thead>\n",
       "    <tr style=\"text-align: right;\">\n",
       "      <th></th>\n",
       "      <th>DayOfWeek</th>\n",
       "      <th>CancellationCode</th>\n",
       "      <th>Cancelled</th>\n",
       "    </tr>\n",
       "  </thead>\n",
       "  <tbody>\n",
       "    <tr>\n",
       "      <th>0</th>\n",
       "      <td>Monday</td>\n",
       "      <td>NAS</td>\n",
       "      <td>10</td>\n",
       "    </tr>\n",
       "    <tr>\n",
       "      <th>1</th>\n",
       "      <td>Monday</td>\n",
       "      <td>carrier</td>\n",
       "      <td>12</td>\n",
       "    </tr>\n",
       "    <tr>\n",
       "      <th>2</th>\n",
       "      <td>Monday</td>\n",
       "      <td>weather</td>\n",
       "      <td>7</td>\n",
       "    </tr>\n",
       "    <tr>\n",
       "      <th>3</th>\n",
       "      <td>Tuesday</td>\n",
       "      <td>NAS</td>\n",
       "      <td>6</td>\n",
       "    </tr>\n",
       "    <tr>\n",
       "      <th>4</th>\n",
       "      <td>Tuesday</td>\n",
       "      <td>carrier</td>\n",
       "      <td>16</td>\n",
       "    </tr>\n",
       "    <tr>\n",
       "      <th>5</th>\n",
       "      <td>Tuesday</td>\n",
       "      <td>weather</td>\n",
       "      <td>14</td>\n",
       "    </tr>\n",
       "    <tr>\n",
       "      <th>6</th>\n",
       "      <td>Wednesday</td>\n",
       "      <td>NAS</td>\n",
       "      <td>2</td>\n",
       "    </tr>\n",
       "    <tr>\n",
       "      <th>7</th>\n",
       "      <td>Wednesday</td>\n",
       "      <td>carrier</td>\n",
       "      <td>23</td>\n",
       "    </tr>\n",
       "    <tr>\n",
       "      <th>8</th>\n",
       "      <td>Wednesday</td>\n",
       "      <td>weather</td>\n",
       "      <td>19</td>\n",
       "    </tr>\n",
       "    <tr>\n",
       "      <th>9</th>\n",
       "      <td>Thursday</td>\n",
       "      <td>NAS</td>\n",
       "      <td>5</td>\n",
       "    </tr>\n",
       "    <tr>\n",
       "      <th>10</th>\n",
       "      <td>Thursday</td>\n",
       "      <td>carrier</td>\n",
       "      <td>15</td>\n",
       "    </tr>\n",
       "    <tr>\n",
       "      <th>11</th>\n",
       "      <td>Thursday</td>\n",
       "      <td>weather</td>\n",
       "      <td>11</td>\n",
       "    </tr>\n",
       "    <tr>\n",
       "      <th>12</th>\n",
       "      <td>Friday</td>\n",
       "      <td>NAS</td>\n",
       "      <td>10</td>\n",
       "    </tr>\n",
       "    <tr>\n",
       "      <th>13</th>\n",
       "      <td>Friday</td>\n",
       "      <td>carrier</td>\n",
       "      <td>10</td>\n",
       "    </tr>\n",
       "    <tr>\n",
       "      <th>14</th>\n",
       "      <td>Friday</td>\n",
       "      <td>weather</td>\n",
       "      <td>19</td>\n",
       "    </tr>\n",
       "    <tr>\n",
       "      <th>15</th>\n",
       "      <td>Saturday</td>\n",
       "      <td>carrier</td>\n",
       "      <td>13</td>\n",
       "    </tr>\n",
       "    <tr>\n",
       "      <th>16</th>\n",
       "      <td>Saturday</td>\n",
       "      <td>weather</td>\n",
       "      <td>11</td>\n",
       "    </tr>\n",
       "    <tr>\n",
       "      <th>17</th>\n",
       "      <td>Sunday</td>\n",
       "      <td>NAS</td>\n",
       "      <td>7</td>\n",
       "    </tr>\n",
       "    <tr>\n",
       "      <th>18</th>\n",
       "      <td>Sunday</td>\n",
       "      <td>carrier</td>\n",
       "      <td>12</td>\n",
       "    </tr>\n",
       "    <tr>\n",
       "      <th>19</th>\n",
       "      <td>Sunday</td>\n",
       "      <td>weather</td>\n",
       "      <td>9</td>\n",
       "    </tr>\n",
       "  </tbody>\n",
       "</table>\n",
       "</div>"
      ],
      "text/plain": [
       "    DayOfWeek CancellationCode  Cancelled\n",
       "0      Monday              NAS         10\n",
       "1      Monday          carrier         12\n",
       "2      Monday          weather          7\n",
       "3     Tuesday              NAS          6\n",
       "4     Tuesday          carrier         16\n",
       "5     Tuesday          weather         14\n",
       "6   Wednesday              NAS          2\n",
       "7   Wednesday          carrier         23\n",
       "8   Wednesday          weather         19\n",
       "9    Thursday              NAS          5\n",
       "10   Thursday          carrier         15\n",
       "11   Thursday          weather         11\n",
       "12     Friday              NAS         10\n",
       "13     Friday          carrier         10\n",
       "14     Friday          weather         19\n",
       "15   Saturday          carrier         13\n",
       "16   Saturday          weather         11\n",
       "17     Sunday              NAS          7\n",
       "18     Sunday          carrier         12\n",
       "19     Sunday          weather          9"
      ]
     },
     "execution_count": 67,
     "metadata": {},
     "output_type": "execute_result"
    }
   ],
   "source": [
    "# Types of Cancellations by Day of Week\n",
    "# count cancellations by day of week and cancellation code\n",
    "df_cancelled_mv = df.groupby(['DayOfWeek', 'CancellationCode'])['Cancelled'].count().reset_index()\n",
    "df_cancelled_mv=Sort_Dataframeby_Weekday(df=df_cancelled_mv,Weekdaycolumnname='DayOfWeek')\n",
    "df_cancelled_mv"
   ]
  },
  {
   "cell_type": "code",
   "execution_count": 68,
   "metadata": {
    "slideshow": {
     "slide_type": "slide"
    }
   },
   "outputs": [
    {
     "data": {
      "image/png": "[encoded data removed]",
      "text/plain": [
       "<Figure size 432x288 with 1 Axes>"
      ]
     },
     "metadata": {
      "needs_background": "light"
     },
     "output_type": "display_data"
    }
   ],
   "source": [
    "# plot\n",
    "\n",
    "ax = sns.barplot(data = df_cancelled_mv, x = 'DayOfWeek', y = 'Cancelled', hue = 'CancellationCode')\n",
    "ax.legend(loc='upper center', bbox_to_anchor=(1.2, 0.8), shadow=True, ncol=1, title = 'Types of Cancellations')\n",
    "ax.set_title('Types of Flight Cancellations by Day of Week')\n",
    "ax.set_xlabel('Day of Week');"
   ]
  },
  {
   "cell_type": "markdown",
   "metadata": {
    "slideshow": {
     "slide_type": "subslide"
    }
   },
   "source": [
    "carrier is the most common weekly cause for flight cancellations, followed by Weather. NAS cancellations are the least common cause for cancellations for all days of the week."
   ]
  },
  {
   "cell_type": "code",
   "execution_count": 69,
   "metadata": {
    "slideshow": {
     "slide_type": "slide"
    }
   },
   "outputs": [],
   "source": [
    "#Length of Delays by Day of Week\n",
    "df_delay_carrier = df.groupby(['DayOfWeek'])['CarrierDelay'].mean().reset_index()\n",
    "df_delay_weather = df.groupby(['DayOfWeek'])['WeatherDelay'].mean().reset_index()\n",
    "df_delay_NAS = df.groupby(['DayOfWeek'])['NASDelay'].mean().reset_index()\n",
    "df_delay_LateAircraft = df.groupby(['DayOfWeek'])['LateAircraftDelay'].mean().reset_index()"
   ]
  },
  {
   "cell_type": "code",
   "execution_count": 70,
   "metadata": {
    "slideshow": {
     "slide_type": "slide"
    }
   },
   "outputs": [
    {
     "data": {
      "text/html": [
       "<div>\n",
       "<style scoped>\n",
       "    .dataframe tbody tr th:only-of-type {\n",
       "        vertical-align: middle;\n",
       "    }\n",
       "\n",
       "    .dataframe tbody tr th {\n",
       "        vertical-align: top;\n",
       "    }\n",
       "\n",
       "    .dataframe thead th {\n",
       "        text-align: right;\n",
       "    }\n",
       "</style>\n",
       "<table border=\"1\" class=\"dataframe\">\n",
       "  <thead>\n",
       "    <tr style=\"text-align: right;\">\n",
       "      <th></th>\n",
       "      <th>DayOfWeek</th>\n",
       "      <th>CarrierDelay</th>\n",
       "      <th>WeatherDelay</th>\n",
       "      <th>NASDelay</th>\n",
       "      <th>LateAircraftDelay</th>\n",
       "    </tr>\n",
       "  </thead>\n",
       "  <tbody>\n",
       "    <tr>\n",
       "      <th>0</th>\n",
       "      <td>Monday</td>\n",
       "      <td>14.653951</td>\n",
       "      <td>2.128065</td>\n",
       "      <td>15.348774</td>\n",
       "      <td>20.098093</td>\n",
       "    </tr>\n",
       "    <tr>\n",
       "      <th>1</th>\n",
       "      <td>Tuesday</td>\n",
       "      <td>13.771186</td>\n",
       "      <td>2.155367</td>\n",
       "      <td>22.014124</td>\n",
       "      <td>21.152542</td>\n",
       "    </tr>\n",
       "    <tr>\n",
       "      <th>2</th>\n",
       "      <td>Wednesday</td>\n",
       "      <td>18.506410</td>\n",
       "      <td>1.532051</td>\n",
       "      <td>12.006410</td>\n",
       "      <td>16.612179</td>\n",
       "    </tr>\n",
       "    <tr>\n",
       "      <th>3</th>\n",
       "      <td>Thursday</td>\n",
       "      <td>18.490196</td>\n",
       "      <td>2.845938</td>\n",
       "      <td>18.134454</td>\n",
       "      <td>17.501401</td>\n",
       "    </tr>\n",
       "    <tr>\n",
       "      <th>4</th>\n",
       "      <td>Friday</td>\n",
       "      <td>16.910448</td>\n",
       "      <td>3.315920</td>\n",
       "      <td>17.370647</td>\n",
       "      <td>21.291045</td>\n",
       "    </tr>\n",
       "    <tr>\n",
       "      <th>5</th>\n",
       "      <td>Saturday</td>\n",
       "      <td>19.000000</td>\n",
       "      <td>4.398026</td>\n",
       "      <td>13.664474</td>\n",
       "      <td>19.217105</td>\n",
       "    </tr>\n",
       "    <tr>\n",
       "      <th>6</th>\n",
       "      <td>Sunday</td>\n",
       "      <td>11.328612</td>\n",
       "      <td>2.645892</td>\n",
       "      <td>15.575071</td>\n",
       "      <td>22.481586</td>\n",
       "    </tr>\n",
       "  </tbody>\n",
       "</table>\n",
       "</div>"
      ],
      "text/plain": [
       "   DayOfWeek  CarrierDelay  WeatherDelay   NASDelay  LateAircraftDelay\n",
       "0     Monday     14.653951      2.128065  15.348774          20.098093\n",
       "1    Tuesday     13.771186      2.155367  22.014124          21.152542\n",
       "2  Wednesday     18.506410      1.532051  12.006410          16.612179\n",
       "3   Thursday     18.490196      2.845938  18.134454          17.501401\n",
       "4     Friday     16.910448      3.315920  17.370647          21.291045\n",
       "5   Saturday     19.000000      4.398026  13.664474          19.217105\n",
       "6     Sunday     11.328612      2.645892  15.575071          22.481586"
      ]
     },
     "execution_count": 70,
     "metadata": {},
     "output_type": "execute_result"
    }
   ],
   "source": [
    "# Join data\n",
    "df_delay = pd.merge(df_delay_carrier, df_delay_weather, on='DayOfWeek', how='outer')\n",
    "df_delay = pd.merge(df_delay, df_delay_NAS, on='DayOfWeek', how='outer')\n",
    "df_delay = pd.merge(df_delay, df_delay_LateAircraft, on='DayOfWeek', how='outer')\n",
    "df_delay=Sort_Dataframeby_Weekday(df=df_delay,Weekdaycolumnname='DayOfWeek')\n",
    "df_delay "
   ]
  },
  {
   "cell_type": "code",
   "execution_count": 71,
   "metadata": {
    "slideshow": {
     "slide_type": "slide"
    }
   },
   "outputs": [
    {
     "data": {
      "image/png": "[encoded data removed]",
      "text/plain": [
       "<Figure size 432x288 with 1 Axes>"
      ]
     },
     "metadata": {
      "needs_background": "light"
     },
     "output_type": "display_data"
    }
   ],
   "source": [
    "# plot\n",
    "ax = df_delay.plot(x=\"DayOfWeek\", y=[\"CarrierDelay\", \"WeatherDelay\", \"NASDelay\", \"LateAircraftDelay\"], kind=\"line\", title='Average Flight Delay Length by Day Of Week')\n",
    "plt.xticks(range(0,7),df_delay[\"DayOfWeek\"])\n",
    "leg = plt.legend().get_texts()\n",
    "leg[0].set_text('Carrier Delay')\n",
    "leg[1].set_text('Weather Delay')\n",
    "leg[2].set_text('NAS Delay')\n",
    "leg[3].set_text('Late Aircraft Delay')\n",
    "ax.set_ylabel('Average Delay (min)')\n",
    "ax.set_xlabel('Day of Week');"
   ]
  },
  {
   "cell_type": "markdown",
   "metadata": {
    "slideshow": {
     "slide_type": "subslide"
    }
   },
   "source": [
    "NAS and late carrier delays had the longest average delay length. Weather delays had the shortest average delay length for all days of the week"
   ]
  },
  {
   "cell_type": "code",
   "execution_count": 72,
   "metadata": {
    "slideshow": {
     "slide_type": "slide"
    }
   },
   "outputs": [
    {
     "data": {
      "text/html": [
       "<div>\n",
       "<style scoped>\n",
       "    .dataframe tbody tr th:only-of-type {\n",
       "        vertical-align: middle;\n",
       "    }\n",
       "\n",
       "    .dataframe tbody tr th {\n",
       "        vertical-align: top;\n",
       "    }\n",
       "\n",
       "    .dataframe thead th {\n",
       "        text-align: right;\n",
       "    }\n",
       "</style>\n",
       "<table border=\"1\" class=\"dataframe\">\n",
       "  <thead>\n",
       "    <tr style=\"text-align: right;\">\n",
       "      <th></th>\n",
       "      <th>DayOfWeek</th>\n",
       "      <th>CarrierDelay</th>\n",
       "      <th>WeatherDelay</th>\n",
       "      <th>NASDelay</th>\n",
       "      <th>LateAircraftDelay</th>\n",
       "    </tr>\n",
       "  </thead>\n",
       "  <tbody>\n",
       "    <tr>\n",
       "      <th>0</th>\n",
       "      <td>Monday</td>\n",
       "      <td>0.009881</td>\n",
       "      <td>0.001435</td>\n",
       "      <td>0.010350</td>\n",
       "      <td>0.013552</td>\n",
       "    </tr>\n",
       "    <tr>\n",
       "      <th>1</th>\n",
       "      <td>Tuesday</td>\n",
       "      <td>0.009400</td>\n",
       "      <td>0.001471</td>\n",
       "      <td>0.015027</td>\n",
       "      <td>0.014439</td>\n",
       "    </tr>\n",
       "    <tr>\n",
       "      <th>2</th>\n",
       "      <td>Wednesday</td>\n",
       "      <td>0.012504</td>\n",
       "      <td>0.001035</td>\n",
       "      <td>0.008112</td>\n",
       "      <td>0.011224</td>\n",
       "    </tr>\n",
       "    <tr>\n",
       "      <th>3</th>\n",
       "      <td>Thursday</td>\n",
       "      <td>0.012385</td>\n",
       "      <td>0.001906</td>\n",
       "      <td>0.012146</td>\n",
       "      <td>0.011722</td>\n",
       "    </tr>\n",
       "    <tr>\n",
       "      <th>4</th>\n",
       "      <td>Friday</td>\n",
       "      <td>0.011743</td>\n",
       "      <td>0.002303</td>\n",
       "      <td>0.012063</td>\n",
       "      <td>0.014785</td>\n",
       "    </tr>\n",
       "    <tr>\n",
       "      <th>5</th>\n",
       "      <td>Saturday</td>\n",
       "      <td>0.015410</td>\n",
       "      <td>0.003567</td>\n",
       "      <td>0.011082</td>\n",
       "      <td>0.015586</td>\n",
       "    </tr>\n",
       "    <tr>\n",
       "      <th>6</th>\n",
       "      <td>Sunday</td>\n",
       "      <td>0.008057</td>\n",
       "      <td>0.001882</td>\n",
       "      <td>0.011078</td>\n",
       "      <td>0.015990</td>\n",
       "    </tr>\n",
       "  </tbody>\n",
       "</table>\n",
       "</div>"
      ],
      "text/plain": [
       "   DayOfWeek  CarrierDelay  WeatherDelay  NASDelay  LateAircraftDelay\n",
       "0     Monday      0.009881      0.001435  0.010350           0.013552\n",
       "1    Tuesday      0.009400      0.001471  0.015027           0.014439\n",
       "2  Wednesday      0.012504      0.001035  0.008112           0.011224\n",
       "3   Thursday      0.012385      0.001906  0.012146           0.011722\n",
       "4     Friday      0.011743      0.002303  0.012063           0.014785\n",
       "5   Saturday      0.015410      0.003567  0.011082           0.015586\n",
       "6     Sunday      0.008057      0.001882  0.011078           0.015990"
      ]
     },
     "execution_count": 72,
     "metadata": {},
     "output_type": "execute_result"
    }
   ],
   "source": [
    "# Percentage of Flights Delayed by Day of Week\n",
    "df_delayw = df_delay.copy()\n",
    "df_delayw = df_delayw[[\"CarrierDelay\", \"WeatherDelay\", \"NASDelay\", \"LateAircraftDelay\"]].div(flights_by_Day_of_Week.Total_Flights, axis=0)\n",
    "df_delayw.insert(0, \"DayOfWeek\", df_delay[\"DayOfWeek\"], True)\n",
    "df_delayw"
   ]
  },
  {
   "cell_type": "code",
   "execution_count": 73,
   "metadata": {
    "slideshow": {
     "slide_type": "slide"
    }
   },
   "outputs": [
    {
     "data": {
      "image/png": "[encoded data removed]",
      "text/plain": [
       "<Figure size 432x288 with 1 Axes>"
      ]
     },
     "metadata": {
      "needs_background": "light"
     },
     "output_type": "display_data"
    }
   ],
   "source": [
    "# plot\n",
    "ax = df_delayw.plot(x=\"DayOfWeek\", y=[\"CarrierDelay\", \"WeatherDelay\", \"NASDelay\", \"LateAircraftDelay\"], kind=\"line\", title='Percent of Flights Delayed by Type and Day of Week')\n",
    "#plt.xticks(range(0,7),df_delayw[\"DayOfWeek\"])\n",
    "leg = plt.legend().get_texts()\n",
    "leg[0].set_text('Carrier Delay')\n",
    "leg[1].set_text('Weather Delay')\n",
    "leg[2].set_text('NAS Delay')\n",
    "leg[3].set_text('Late Aircraft Delay')\n",
    "ax.set_ylabel('Percent of Flights Delayed')\n",
    "ax.set_xlabel('Day of Week');"
   ]
  },
  {
   "cell_type": "markdown",
   "metadata": {
    "slideshow": {
     "slide_type": "subslide"
    }
   },
   "source": [
    "Results were similar to that of types of delays by week where NAS and late Aircraft delays have the highest percentage of delays of total weekly flights and Weather has the least percentage of delays of total weekly flights."
   ]
  },
  {
   "cell_type": "markdown",
   "metadata": {
    "slideshow": {
     "slide_type": "slide"
    }
   },
   "source": [
    "### Were there any interesting or surprising interactions between features?\n",
    "  Security delays and cancellations are very infrequent compared with the other types of delays and cancellations."
   ]
  },
  {
   "cell_type": "code",
   "execution_count": 10,
   "metadata": {},
   "outputs": [],
   "source": [
    "df.to_csv('sampled_10000.csv',index=False)"
   ]
  },
  {
   "cell_type": "code",
   "execution_count": null,
   "metadata": {},
   "outputs": [],
   "source": []
  }
 ],
 "metadata": {
  "kernelspec": {
   "display_name": "Python 3",
   "language": "python",
   "name": "python3"
  },
  "language_info": {
   "codemirror_mode": {
    "name": "ipython",
    "version": 3
   },
   "file_extension": ".py",
   "mimetype": "text/x-python",
   "name": "python",
   "nbconvert_exporter": "python",
   "pygments_lexer": "ipython3",
   "version": "3.8.5"
  }
 },
 "nbformat": 4,
 "nbformat_minor": 4
}
